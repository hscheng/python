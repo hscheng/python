{
 "cells": [
  {
   "cell_type": "markdown",
   "metadata": {},
   "source": [
    "# 主要思路"
   ]
  },
  {
   "cell_type": "markdown",
   "metadata": {},
   "source": [
    "## 分析的维度"
   ]
  },
  {
   "cell_type": "markdown",
   "metadata": {},
   "source": [
    "**整体概况**：\n",
    "- 总课程数，免费及收费课程数占比\n",
    "- 各栏目课程数\n",
    "\n",
    "**维度**：\n",
    "- 归属的栏目(一级、二级)\n",
    "- 是否收费\n",
    "- 价格区间，免费为一档，收费按百分位划分高中低3档\n",
    "- 课程发布者的分类，C类个人，B类机构\n",
    "\n",
    "**指标**：\n",
    "- 课程评分\n",
    "- 上课人数\n",
    "- 互动人数，学生发表评论数及老师发表评论数"
   ]
  },
  {
   "cell_type": "markdown",
   "metadata": {},
   "source": [
    "问题：网易云课堂和腾讯课堂哪家强？\n",
    "\n",
    "**分析的维度**:\n",
    "- 课程数；\n",
    "- 听课人数(累积，相同时间段对比)\n",
    "- 入驻机构或者个人数；\n",
    "- 付费占比；\n",
    "- "
   ]
  },
  {
   "cell_type": "markdown",
   "metadata": {},
   "source": [
    "## 采集的数据"
   ]
  },
  {
   "cell_type": "markdown",
   "metadata": {},
   "source": [
    "**栏目数据**：\n",
    "- 栏目名称\n",
    "- 父栏目\n",
    "- 子栏目\n",
    "- 栏目编号或者url"
   ]
  },
  {
   "cell_type": "code",
   "execution_count": null,
   "metadata": {},
   "outputs": [],
   "source": [
    "网易云课堂有两种角色\n",
    "- provider供应方 https://study.163.com/provider/1025897964/index.htm\n",
    "- instructor导师 https://study.163.com/instructor/1027148166.htm\n",
    "- 供应方和导师的关系是1对多\n",
    "\n",
    "这里主要看课程发布者的信息：\n",
    "- 发布者编号或url\n",
    "- 发布的课程数或课程编号\n",
    "- 旗下的导师数量\n"
   ]
  },
  {
   "cell_type": "markdown",
   "metadata": {},
   "source": [
    "**需要爬取的课程数据**：\n",
    "- 名称\n",
    "- 地址\n",
    "- 开课时间\n",
    "- 开课次数\n",
    "- 是否收费，取值【免费，收费】\n",
    "- 课程价格，如果免费，价格为0\n",
    "- 听课人数\n",
    "- 课程评分\n",
    "- 出品方类型【C为个人，B为机构】\n",
    "- 出品方名称\n",
    "- 出品方唯一标记"
   ]
  },
  {
   "cell_type": "markdown",
   "metadata": {},
   "source": [
    "# 环境配置"
   ]
  },
  {
   "cell_type": "markdown",
   "metadata": {},
   "source": [
    "## 工具包"
   ]
  },
  {
   "cell_type": "code",
   "execution_count": 1,
   "metadata": {},
   "outputs": [],
   "source": [
    "import requests,re\n",
    "import os\n",
    "import lxml.html\n",
    "import pandas as pd\n",
    "import json"
   ]
  },
  {
   "cell_type": "code",
   "execution_count": 2,
   "metadata": {},
   "outputs": [],
   "source": [
    "import sys,time"
   ]
  },
  {
   "cell_type": "code",
   "execution_count": 3,
   "metadata": {},
   "outputs": [],
   "source": [
    "from matplotlib import pyplot as plt\n",
    "%matplotlib inline"
   ]
  },
  {
   "cell_type": "markdown",
   "metadata": {},
   "source": [
    "# 数据抓取"
   ]
  },
  {
   "cell_type": "markdown",
   "metadata": {},
   "source": [
    "## 栏目数据"
   ]
  },
  {
   "cell_type": "markdown",
   "metadata": {},
   "source": [
    "主题ID的格式一般是48000开头：/category/480000003130008"
   ]
  },
  {
   "cell_type": "code",
   "execution_count": 4,
   "metadata": {},
   "outputs": [],
   "source": [
    "url_main = 'https://study.163.com'"
   ]
  },
  {
   "cell_type": "code",
   "execution_count": 5,
   "metadata": {},
   "outputs": [],
   "source": [
    "r = requests.get(url_main)"
   ]
  },
  {
   "cell_type": "code",
   "execution_count": 6,
   "metadata": {},
   "outputs": [],
   "source": [
    "html_text = r.content.decode()"
   ]
  },
  {
   "cell_type": "markdown",
   "metadata": {},
   "source": [
    "### 单元测试"
   ]
  },
  {
   "cell_type": "code",
   "execution_count": 7,
   "metadata": {},
   "outputs": [],
   "source": [
    "tree = lxml.html.fromstring(html_text)"
   ]
  },
  {
   "cell_type": "raw",
   "metadata": {},
   "source": [
    "有两类格式\n",
    "<a data-index=\"职业考试_类目框\" data-name=\"一级消防\" target=\"_blank\" href=\"/category/400000001324001\" class=\"f-f0 rec\">一级消防</a> \n",
    "\n",
    "所在路径为：p.cate3links > a.f-f0\n",
    "\n",
    "<a data-index=\"AI/数据科学_类目框\" data-name=\"云计算\" href=\"/category/480000003132007\" class=\"f-f0 first cat2 tit f-fl\" target=\"_blank\">云计算</a>\n",
    "\n",
    "所在路径为：a.f-f0.first.cat2.tit.f-fl"
   ]
  },
  {
   "cell_type": "code",
   "execution_count": 8,
   "metadata": {
    "scrolled": true
   },
   "outputs": [
    {
     "data": {
      "text/plain": [
       "136"
      ]
     },
     "execution_count": 8,
     "metadata": {},
     "output_type": "execute_result"
    }
   ],
   "source": [
    "# 第一类情况\n",
    "items1 = tree.cssselect('a.f-f0.first.cat2.tit.f-fl')\n",
    "len(items1)"
   ]
  },
  {
   "cell_type": "code",
   "execution_count": 9,
   "metadata": {},
   "outputs": [],
   "source": [
    "# 初始化list用于存储category信息\n",
    "list_category = []\n",
    "\n",
    "items = items1\n",
    "\n",
    "for idx,item in enumerate(items):\n",
    "    try:\n",
    "        # 栏目标题\n",
    "        c_name = item.text_content()\n",
    "        \n",
    "        # 父栏目\n",
    "        c_parent = item.get('data-index')\n",
    "        # 子栏目\n",
    "        c_child = item.get('data-name')\n",
    "        # 栏目编号\n",
    "        c_url = item.get('href')\n",
    "        \n",
    "        list_category.append([c_name,c_parent,c_child,c_url])\n",
    "    except:\n",
    "        print('%d 位置出错'%idx)"
   ]
  },
  {
   "cell_type": "code",
   "execution_count": 10,
   "metadata": {},
   "outputs": [
    {
     "data": {
      "text/plain": [
       "504"
      ]
     },
     "execution_count": 10,
     "metadata": {},
     "output_type": "execute_result"
    }
   ],
   "source": [
    "# 第2类情况\n",
    "items2 = tree.cssselect('p.cate3links > a.f-f0')\n",
    "len(items2)"
   ]
  },
  {
   "cell_type": "code",
   "execution_count": 11,
   "metadata": {},
   "outputs": [],
   "source": [
    "items = items2\n",
    "\n",
    "for idx,item in enumerate(items):\n",
    "    try:\n",
    "        # 栏目标题\n",
    "        c_name = item.text_content()\n",
    "        \n",
    "        # 父栏目\n",
    "        c_parent = item.get('data-index')\n",
    "        # 子栏目\n",
    "        c_child = item.get('data-name')\n",
    "        # 栏目编号\n",
    "        c_url = item.get('href')\n",
    "        \n",
    "        list_category.append([c_name,c_parent,c_child,c_url])\n",
    "    except:\n",
    "        print('%d 位置出错'%idx)"
   ]
  },
  {
   "cell_type": "code",
   "execution_count": 12,
   "metadata": {
    "scrolled": true
   },
   "outputs": [
    {
     "data": {
      "text/html": [
       "<div>\n",
       "<style scoped>\n",
       "    .dataframe tbody tr th:only-of-type {\n",
       "        vertical-align: middle;\n",
       "    }\n",
       "\n",
       "    .dataframe tbody tr th {\n",
       "        vertical-align: top;\n",
       "    }\n",
       "\n",
       "    .dataframe thead th {\n",
       "        text-align: right;\n",
       "    }\n",
       "</style>\n",
       "<table border=\"1\" class=\"dataframe\">\n",
       "  <thead>\n",
       "    <tr style=\"text-align: right;\">\n",
       "      <th></th>\n",
       "      <th>name</th>\n",
       "      <th>parent</th>\n",
       "      <th>child</th>\n",
       "      <th>url</th>\n",
       "    </tr>\n",
       "  </thead>\n",
       "  <tbody>\n",
       "    <tr>\n",
       "      <th>0</th>\n",
       "      <td>\\n求职准备\\n</td>\n",
       "      <td>职场提升_类目框</td>\n",
       "      <td>求职准备</td>\n",
       "      <td>/category/480000003121024</td>\n",
       "    </tr>\n",
       "    <tr>\n",
       "      <th>1</th>\n",
       "      <td>\\n办公软件\\n</td>\n",
       "      <td>职场提升_类目框</td>\n",
       "      <td>办公软件</td>\n",
       "      <td>/category/480000003123036</td>\n",
       "    </tr>\n",
       "    <tr>\n",
       "      <th>2</th>\n",
       "      <td>\\n效率工具\\n</td>\n",
       "      <td>职场提升_类目框</td>\n",
       "      <td>效率工具</td>\n",
       "      <td>/category/480000003131028</td>\n",
       "    </tr>\n",
       "    <tr>\n",
       "      <th>3</th>\n",
       "      <td>\\n电脑基础\\n</td>\n",
       "      <td>职场提升_类目框</td>\n",
       "      <td>电脑基础</td>\n",
       "      <td>/category/480000003134018</td>\n",
       "    </tr>\n",
       "    <tr>\n",
       "      <th>4</th>\n",
       "      <td>\\n个人提升\\n</td>\n",
       "      <td>职场提升_类目框</td>\n",
       "      <td>个人提升</td>\n",
       "      <td>/category/480000003134019</td>\n",
       "    </tr>\n",
       "  </tbody>\n",
       "</table>\n",
       "</div>"
      ],
      "text/plain": [
       "       name    parent child                        url\n",
       "0  \\n求职准备\\n  职场提升_类目框  求职准备  /category/480000003121024\n",
       "1  \\n办公软件\\n  职场提升_类目框  办公软件  /category/480000003123036\n",
       "2  \\n效率工具\\n  职场提升_类目框  效率工具  /category/480000003131028\n",
       "3  \\n电脑基础\\n  职场提升_类目框  电脑基础  /category/480000003134018\n",
       "4  \\n个人提升\\n  职场提升_类目框  个人提升  /category/480000003134019"
      ]
     },
     "execution_count": 12,
     "metadata": {},
     "output_type": "execute_result"
    }
   ],
   "source": [
    "# 转成dataframe\n",
    "data_category = pd.DataFrame(list_category, columns=['name','parent','child','url'])\n",
    "data_category.head(5)"
   ]
  },
  {
   "cell_type": "markdown",
   "metadata": {},
   "source": [
    "### 清洗数据"
   ]
  },
  {
   "cell_type": "code",
   "execution_count": 13,
   "metadata": {
    "scrolled": true
   },
   "outputs": [
    {
     "data": {
      "text/html": [
       "<div>\n",
       "<style scoped>\n",
       "    .dataframe tbody tr th:only-of-type {\n",
       "        vertical-align: middle;\n",
       "    }\n",
       "\n",
       "    .dataframe tbody tr th {\n",
       "        vertical-align: top;\n",
       "    }\n",
       "\n",
       "    .dataframe thead th {\n",
       "        text-align: right;\n",
       "    }\n",
       "</style>\n",
       "<table border=\"1\" class=\"dataframe\">\n",
       "  <thead>\n",
       "    <tr style=\"text-align: right;\">\n",
       "      <th></th>\n",
       "      <th>name</th>\n",
       "      <th>parent</th>\n",
       "      <th>child</th>\n",
       "      <th>url</th>\n",
       "      <th>cat_id</th>\n",
       "    </tr>\n",
       "  </thead>\n",
       "  <tbody>\n",
       "    <tr>\n",
       "      <th>0</th>\n",
       "      <td>求职准备</td>\n",
       "      <td>职场提升</td>\n",
       "      <td>求职准备</td>\n",
       "      <td>https://study.163.com/category/480000003121024</td>\n",
       "      <td>480000003121024</td>\n",
       "    </tr>\n",
       "    <tr>\n",
       "      <th>1</th>\n",
       "      <td>办公软件</td>\n",
       "      <td>职场提升</td>\n",
       "      <td>办公软件</td>\n",
       "      <td>https://study.163.com/category/480000003123036</td>\n",
       "      <td>480000003123036</td>\n",
       "    </tr>\n",
       "    <tr>\n",
       "      <th>2</th>\n",
       "      <td>效率工具</td>\n",
       "      <td>职场提升</td>\n",
       "      <td>效率工具</td>\n",
       "      <td>https://study.163.com/category/480000003131028</td>\n",
       "      <td>480000003131028</td>\n",
       "    </tr>\n",
       "    <tr>\n",
       "      <th>3</th>\n",
       "      <td>电脑基础</td>\n",
       "      <td>职场提升</td>\n",
       "      <td>电脑基础</td>\n",
       "      <td>https://study.163.com/category/480000003134018</td>\n",
       "      <td>480000003134018</td>\n",
       "    </tr>\n",
       "    <tr>\n",
       "      <th>4</th>\n",
       "      <td>个人提升</td>\n",
       "      <td>职场提升</td>\n",
       "      <td>个人提升</td>\n",
       "      <td>https://study.163.com/category/480000003134019</td>\n",
       "      <td>480000003134019</td>\n",
       "    </tr>\n",
       "  </tbody>\n",
       "</table>\n",
       "</div>"
      ],
      "text/plain": [
       "   name parent child                                             url  \\\n",
       "0  求职准备   职场提升  求职准备  https://study.163.com/category/480000003121024   \n",
       "1  办公软件   职场提升  办公软件  https://study.163.com/category/480000003123036   \n",
       "2  效率工具   职场提升  效率工具  https://study.163.com/category/480000003131028   \n",
       "3  电脑基础   职场提升  电脑基础  https://study.163.com/category/480000003134018   \n",
       "4  个人提升   职场提升  个人提升  https://study.163.com/category/480000003134019   \n",
       "\n",
       "            cat_id  \n",
       "0  480000003121024  \n",
       "1  480000003123036  \n",
       "2  480000003131028  \n",
       "3  480000003134018  \n",
       "4  480000003134019  "
      ]
     },
     "execution_count": 13,
     "metadata": {},
     "output_type": "execute_result"
    }
   ],
   "source": [
    "# 清洗数据\n",
    "\n",
    "# 去掉name列中的换行符\n",
    "data_category['name'] = data_category['name'].apply(lambda x:x.replace('\\n',''))\n",
    "# 去掉parent列中的'_类目框'\n",
    "data_category['parent'] = data_category['parent'].apply(lambda x:x.replace('_类目框',''))\n",
    "# 新增一列栏目编号，cat_id\n",
    "data_category['cat_id'] = data_category['url'].apply(lambda x:x.split('/')[-1])\n",
    "\n",
    "# 补全url\n",
    "data_category['url'] = data_category['cat_id'].apply(lambda x:'https://study.163.com/category/'+x)\n",
    "\n",
    "\n",
    "data_category.head(5)"
   ]
  },
  {
   "cell_type": "code",
   "execution_count": 14,
   "metadata": {},
   "outputs": [
    {
     "data": {
      "text/plain": [
       "Index(['name', 'parent', 'child', 'url', 'cat_id'], dtype='object')"
      ]
     },
     "execution_count": 14,
     "metadata": {},
     "output_type": "execute_result"
    }
   ],
   "source": [
    "data_category.columns"
   ]
  },
  {
   "cell_type": "code",
   "execution_count": 15,
   "metadata": {
    "scrolled": true
   },
   "outputs": [
    {
     "name": "stdout",
     "output_type": "stream",
     "text": [
      "(640, 5)\n",
      "320\n",
      "320\n"
     ]
    }
   ],
   "source": [
    "# 检查数据是否有重复\n",
    "# 总行数==主键的去重计数\n",
    "print(data_category.shape)\n",
    "print(len(pd.unique(data_category['cat_id'])))\n",
    "\n",
    "# 直接返回重复的数据行数\n",
    "print(sum(data_category.duplicated()))"
   ]
  },
  {
   "cell_type": "code",
   "execution_count": 16,
   "metadata": {
    "scrolled": false
   },
   "outputs": [],
   "source": [
    "# 数据去重\n",
    "# 以主键为基准，取首个值即可，可能出现一个cat_id分配到多个栏目下\n",
    "# ref: https://blog.csdn.net/qq_24499417/article/details/81126807\n",
    "\n",
    "data_category = data_category.drop_duplicates(subset=['cat_id'])"
   ]
  },
  {
   "cell_type": "code",
   "execution_count": 17,
   "metadata": {},
   "outputs": [
    {
     "data": {
      "text/plain": [
       "(320, 5)"
      ]
     },
     "execution_count": 17,
     "metadata": {},
     "output_type": "execute_result"
    }
   ],
   "source": [
    "data_category.shape"
   ]
  },
  {
   "cell_type": "code",
   "execution_count": 18,
   "metadata": {
    "scrolled": false
   },
   "outputs": [
    {
     "data": {
      "text/html": [
       "<div>\n",
       "<style scoped>\n",
       "    .dataframe tbody tr th:only-of-type {\n",
       "        vertical-align: middle;\n",
       "    }\n",
       "\n",
       "    .dataframe tbody tr th {\n",
       "        vertical-align: top;\n",
       "    }\n",
       "\n",
       "    .dataframe thead th {\n",
       "        text-align: right;\n",
       "    }\n",
       "</style>\n",
       "<table border=\"1\" class=\"dataframe\">\n",
       "  <thead>\n",
       "    <tr style=\"text-align: right;\">\n",
       "      <th></th>\n",
       "      <th>name</th>\n",
       "      <th>parent</th>\n",
       "      <th>child</th>\n",
       "      <th>url</th>\n",
       "      <th>cat_id</th>\n",
       "    </tr>\n",
       "  </thead>\n",
       "  <tbody>\n",
       "  </tbody>\n",
       "</table>\n",
       "</div>"
      ],
      "text/plain": [
       "Empty DataFrame\n",
       "Columns: [name, parent, child, url, cat_id]\n",
       "Index: []"
      ]
     },
     "execution_count": 18,
     "metadata": {},
     "output_type": "execute_result"
    }
   ],
   "source": [
    "# name 和 child列是一样的\n",
    "data_category.loc[data_category['name']!=data_category['child']]"
   ]
  },
  {
   "cell_type": "code",
   "execution_count": 19,
   "metadata": {
    "scrolled": true
   },
   "outputs": [
    {
     "data": {
      "text/html": [
       "<div>\n",
       "<style scoped>\n",
       "    .dataframe tbody tr th:only-of-type {\n",
       "        vertical-align: middle;\n",
       "    }\n",
       "\n",
       "    .dataframe tbody tr th {\n",
       "        vertical-align: top;\n",
       "    }\n",
       "\n",
       "    .dataframe thead th {\n",
       "        text-align: right;\n",
       "    }\n",
       "</style>\n",
       "<table border=\"1\" class=\"dataframe\">\n",
       "  <thead>\n",
       "    <tr style=\"text-align: right;\">\n",
       "      <th></th>\n",
       "      <th>parent</th>\n",
       "      <th>child</th>\n",
       "      <th>url</th>\n",
       "      <th>cat_id</th>\n",
       "    </tr>\n",
       "  </thead>\n",
       "  <tbody>\n",
       "    <tr>\n",
       "      <th>0</th>\n",
       "      <td>职场提升</td>\n",
       "      <td>求职准备</td>\n",
       "      <td>https://study.163.com/category/480000003121024</td>\n",
       "      <td>480000003121024</td>\n",
       "    </tr>\n",
       "    <tr>\n",
       "      <th>1</th>\n",
       "      <td>职场提升</td>\n",
       "      <td>办公软件</td>\n",
       "      <td>https://study.163.com/category/480000003123036</td>\n",
       "      <td>480000003123036</td>\n",
       "    </tr>\n",
       "    <tr>\n",
       "      <th>2</th>\n",
       "      <td>职场提升</td>\n",
       "      <td>效率工具</td>\n",
       "      <td>https://study.163.com/category/480000003131028</td>\n",
       "      <td>480000003131028</td>\n",
       "    </tr>\n",
       "    <tr>\n",
       "      <th>3</th>\n",
       "      <td>职场提升</td>\n",
       "      <td>电脑基础</td>\n",
       "      <td>https://study.163.com/category/480000003134018</td>\n",
       "      <td>480000003134018</td>\n",
       "    </tr>\n",
       "    <tr>\n",
       "      <th>4</th>\n",
       "      <td>职场提升</td>\n",
       "      <td>个人提升</td>\n",
       "      <td>https://study.163.com/category/480000003134019</td>\n",
       "      <td>480000003134019</td>\n",
       "    </tr>\n",
       "  </tbody>\n",
       "</table>\n",
       "</div>"
      ],
      "text/plain": [
       "  parent child                                             url  \\\n",
       "0   职场提升  求职准备  https://study.163.com/category/480000003121024   \n",
       "1   职场提升  办公软件  https://study.163.com/category/480000003123036   \n",
       "2   职场提升  效率工具  https://study.163.com/category/480000003131028   \n",
       "3   职场提升  电脑基础  https://study.163.com/category/480000003134018   \n",
       "4   职场提升  个人提升  https://study.163.com/category/480000003134019   \n",
       "\n",
       "            cat_id  \n",
       "0  480000003121024  \n",
       "1  480000003123036  \n",
       "2  480000003131028  \n",
       "3  480000003134018  \n",
       "4  480000003134019  "
      ]
     },
     "execution_count": 19,
     "metadata": {},
     "output_type": "execute_result"
    }
   ],
   "source": [
    "# 这里删除name列\n",
    "# data_category = data_category.drop(['name'], axis=1)\n",
    "del data_category['name']\n",
    "\n",
    "# 这样每个栏目就只有两级分类了，一级栏目为parent列，二级栏目为child列\n",
    "\n",
    "data_category.head(5)"
   ]
  },
  {
   "cell_type": "code",
   "execution_count": 20,
   "metadata": {
    "scrolled": true
   },
   "outputs": [
    {
     "data": {
      "text/plain": [
       "(313, 4)"
      ]
     },
     "execution_count": 20,
     "metadata": {},
     "output_type": "execute_result"
    }
   ],
   "source": [
    "# 过滤掉非数字的cat_id\n",
    "data_category = data_category.loc[data_category['cat_id'].apply(str.isnumeric)]\n",
    "\n",
    "data_category.shape"
   ]
  },
  {
   "cell_type": "code",
   "execution_count": 21,
   "metadata": {},
   "outputs": [],
   "source": [
    "# 导出数据\n",
    "file_cat = 'data_网易云课堂_栏目数据_20190418.csv'\n",
    "\n",
    "data_category.to_csv(file_cat, encoding='utf-8', index=False)"
   ]
  },
  {
   "cell_type": "code",
   "execution_count": 22,
   "metadata": {
    "scrolled": true
   },
   "outputs": [
    {
     "data": {
      "text/html": [
       "<div>\n",
       "<style scoped>\n",
       "    .dataframe tbody tr th:only-of-type {\n",
       "        vertical-align: middle;\n",
       "    }\n",
       "\n",
       "    .dataframe tbody tr th {\n",
       "        vertical-align: top;\n",
       "    }\n",
       "\n",
       "    .dataframe thead th {\n",
       "        text-align: right;\n",
       "    }\n",
       "</style>\n",
       "<table border=\"1\" class=\"dataframe\">\n",
       "  <thead>\n",
       "    <tr style=\"text-align: right;\">\n",
       "      <th></th>\n",
       "      <th>parent</th>\n",
       "      <th>child</th>\n",
       "      <th>url</th>\n",
       "      <th>cat_id</th>\n",
       "    </tr>\n",
       "  </thead>\n",
       "  <tbody>\n",
       "    <tr>\n",
       "      <th>0</th>\n",
       "      <td>职场提升</td>\n",
       "      <td>求职准备</td>\n",
       "      <td>https://study.163.com/category/480000003121024</td>\n",
       "      <td>480000003121024</td>\n",
       "    </tr>\n",
       "    <tr>\n",
       "      <th>1</th>\n",
       "      <td>职场提升</td>\n",
       "      <td>办公软件</td>\n",
       "      <td>https://study.163.com/category/480000003123036</td>\n",
       "      <td>480000003123036</td>\n",
       "    </tr>\n",
       "    <tr>\n",
       "      <th>2</th>\n",
       "      <td>职场提升</td>\n",
       "      <td>效率工具</td>\n",
       "      <td>https://study.163.com/category/480000003131028</td>\n",
       "      <td>480000003131028</td>\n",
       "    </tr>\n",
       "    <tr>\n",
       "      <th>3</th>\n",
       "      <td>职场提升</td>\n",
       "      <td>电脑基础</td>\n",
       "      <td>https://study.163.com/category/480000003134018</td>\n",
       "      <td>480000003134018</td>\n",
       "    </tr>\n",
       "    <tr>\n",
       "      <th>4</th>\n",
       "      <td>职场提升</td>\n",
       "      <td>个人提升</td>\n",
       "      <td>https://study.163.com/category/480000003134019</td>\n",
       "      <td>480000003134019</td>\n",
       "    </tr>\n",
       "  </tbody>\n",
       "</table>\n",
       "</div>"
      ],
      "text/plain": [
       "  parent child                                             url  \\\n",
       "0   职场提升  求职准备  https://study.163.com/category/480000003121024   \n",
       "1   职场提升  办公软件  https://study.163.com/category/480000003123036   \n",
       "2   职场提升  效率工具  https://study.163.com/category/480000003131028   \n",
       "3   职场提升  电脑基础  https://study.163.com/category/480000003134018   \n",
       "4   职场提升  个人提升  https://study.163.com/category/480000003134019   \n",
       "\n",
       "            cat_id  \n",
       "0  480000003121024  \n",
       "1  480000003123036  \n",
       "2  480000003131028  \n",
       "3  480000003134018  \n",
       "4  480000003134019  "
      ]
     },
     "execution_count": 22,
     "metadata": {},
     "output_type": "execute_result"
    }
   ],
   "source": [
    "# 载入离线数据\n",
    "data_category = pd.read_csv(file_cat)\n",
    "data_category.head(5)"
   ]
  },
  {
   "cell_type": "markdown",
   "metadata": {},
   "source": [
    "## 课程Part1"
   ]
  },
  {
   "cell_type": "markdown",
   "metadata": {},
   "source": [
    "网易云课堂课程的展示分为两部分：\n",
    "- 上半部分是【个人课程】，通过'https://study.163.com/j/web/fetchPersonalData.json?categoryId='来获取\n",
    "- 下班部分是【推荐|畅销|新客】的搜索结果展示，请求url为'https://study.163.com/p/search/studycourse.json'"
   ]
  },
  {
   "cell_type": "markdown",
   "metadata": {},
   "source": [
    "网易有3类课程：\n",
    "- 普通课程 https://study.163.com/course/introduction/1005349004.htm\n",
    "- 微专业，https://study.163.com/smartSpec/intro.htm\n",
    "- 系列课，https://study.163.com/series/all.htm#/all?p=1"
   ]
  },
  {
   "cell_type": "markdown",
   "metadata": {},
   "source": [
    "### 单元测试\n",
    "单个栏目测试"
   ]
  },
  {
   "cell_type": "code",
   "execution_count": 39,
   "metadata": {},
   "outputs": [],
   "source": [
    "cat_id = '480000003129034'\n",
    "url_cat = 'https://study.163.com/j/web/fetchPersonalData.json?categoryId='+str(cat_id)\n",
    "\n",
    "# 原始url\n",
    "# url = 'https://study.163.com/j/web/fetchPersonalData.json?categoryId=480000003129034&t=1555593035219'"
   ]
  },
  {
   "cell_type": "code",
   "execution_count": 40,
   "metadata": {},
   "outputs": [],
   "source": [
    "headers_cat = {\n",
    "    'Referer': 'https://study.163.com/category/480000003124027'\n",
    "    ,'cookie':'NTESSTUDYSI=c2b373320c9e4bdcbaaf3e472e82f2d6; EDUWEBDEVICE=affc57a4b6aa408091a8f0c9752b08d9; utm=eyJjIjoiIiwiY3QiOiIiLCJpIjoiIiwibSI6IiIsInMiOiIiLCJ0IjoiIn0=|aHR0cHM6Ly9zdHVkeS4xNjMuY29tL2NhdGVnb3J5LzQ4MDAwMDAwMzEyNDAyNw==; __utma=129633230.1300737634.1560475613.1560475613.1560475613.1; __utmc=129633230; __utmz=129633230.1560475613.1.1.utmcsr=(direct)|utmccn=(direct)|utmcmd=(none); __utmb=129633230.2.10.1560475613'\n",
    "    ,'User-Agent': 'Mozilla/5.0 (Macintosh; Intel Mac OS X 10_14_4) AppleWebKit/537.36 (KHTML, like Gecko) Chrome/73.0.3683.103 Safari/537.36'    \n",
    "}"
   ]
  },
  {
   "cell_type": "code",
   "execution_count": 27,
   "metadata": {},
   "outputs": [],
   "source": [
    "r_cat = requests.get(url_cat,headers = headers_cat)"
   ]
  },
  {
   "cell_type": "code",
   "execution_count": 28,
   "metadata": {},
   "outputs": [],
   "source": [
    "html_text = r_cat.content.decode()"
   ]
  },
  {
   "cell_type": "code",
   "execution_count": 29,
   "metadata": {},
   "outputs": [],
   "source": [
    "html_json = json.loads(html_text)\n",
    "# html_json"
   ]
  },
  {
   "cell_type": "code",
   "execution_count": 30,
   "metadata": {},
   "outputs": [],
   "source": [
    "# 课程推荐的模块一般会有多个\n",
    "modules = html_json['result']"
   ]
  },
  {
   "cell_type": "code",
   "execution_count": 31,
   "metadata": {},
   "outputs": [],
   "source": [
    "# 每个模块下通常会有多门课程推荐\n",
    "lessons_module = modules[0]['contentModuleVo']"
   ]
  },
  {
   "cell_type": "code",
   "execution_count": 32,
   "metadata": {
    "scrolled": true
   },
   "outputs": [
    {
     "data": {
      "text/html": [
       "<div>\n",
       "<style scoped>\n",
       "    .dataframe tbody tr th:only-of-type {\n",
       "        vertical-align: middle;\n",
       "    }\n",
       "\n",
       "    .dataframe tbody tr th {\n",
       "        vertical-align: top;\n",
       "    }\n",
       "\n",
       "    .dataframe thead th {\n",
       "        text-align: right;\n",
       "    }\n",
       "</style>\n",
       "<table border=\"1\" class=\"dataframe\">\n",
       "  <thead>\n",
       "    <tr style=\"text-align: right;\">\n",
       "      <th></th>\n",
       "      <th>actionScene</th>\n",
       "      <th>activityIds</th>\n",
       "      <th>activityUrl</th>\n",
       "      <th>advertiseFlag</th>\n",
       "      <th>advertiseSearchUuid</th>\n",
       "      <th>appImgUrl</th>\n",
       "      <th>appType</th>\n",
       "      <th>bannerTitle</th>\n",
       "      <th>belongToId</th>\n",
       "      <th>bigImgUrl</th>\n",
       "      <th>...</th>\n",
       "      <th>targetUrl</th>\n",
       "      <th>termSchedule</th>\n",
       "      <th>topGrade</th>\n",
       "      <th>totalCount</th>\n",
       "      <th>vipContentType</th>\n",
       "      <th>vipPrice</th>\n",
       "      <th>wapImgUrl</th>\n",
       "      <th>webImgColor</th>\n",
       "      <th>webImgUrl</th>\n",
       "      <th>webOneDesc</th>\n",
       "    </tr>\n",
       "  </thead>\n",
       "  <tbody>\n",
       "    <tr>\n",
       "      <th>0</th>\n",
       "      <td>SCENE_UNKNOWN</td>\n",
       "      <td>None</td>\n",
       "      <td>None</td>\n",
       "      <td>None</td>\n",
       "      <td>None</td>\n",
       "      <td>None</td>\n",
       "      <td>0</td>\n",
       "      <td>None</td>\n",
       "      <td>None</td>\n",
       "      <td>//edu-image.nosdn.127.net/72a57bbe-3e04-45bb-b...</td>\n",
       "      <td>...</td>\n",
       "      <td>//study.163.com/course/introduction/1005211036...</td>\n",
       "      <td>None</td>\n",
       "      <td>False</td>\n",
       "      <td>None</td>\n",
       "      <td>-1</td>\n",
       "      <td>None</td>\n",
       "      <td>None</td>\n",
       "      <td>None</td>\n",
       "      <td>None</td>\n",
       "      <td>None</td>\n",
       "    </tr>\n",
       "    <tr>\n",
       "      <th>1</th>\n",
       "      <td>SCENE_UNKNOWN</td>\n",
       "      <td>None</td>\n",
       "      <td>None</td>\n",
       "      <td>None</td>\n",
       "      <td>None</td>\n",
       "      <td>None</td>\n",
       "      <td>0</td>\n",
       "      <td>None</td>\n",
       "      <td>None</td>\n",
       "      <td>//edu-image.nosdn.127.net/51A9AAD923AF952AD1F8...</td>\n",
       "      <td>...</td>\n",
       "      <td>//study.163.com/course/introduction/1004990016...</td>\n",
       "      <td>None</td>\n",
       "      <td>False</td>\n",
       "      <td>None</td>\n",
       "      <td>-1</td>\n",
       "      <td>None</td>\n",
       "      <td>None</td>\n",
       "      <td>None</td>\n",
       "      <td>None</td>\n",
       "      <td>None</td>\n",
       "    </tr>\n",
       "    <tr>\n",
       "      <th>2</th>\n",
       "      <td>SCENE_UNKNOWN</td>\n",
       "      <td>None</td>\n",
       "      <td>None</td>\n",
       "      <td>None</td>\n",
       "      <td>None</td>\n",
       "      <td>http://edu-image.nosdn.127.net/4F00DCB9F75BE98...</td>\n",
       "      <td>0</td>\n",
       "      <td>None</td>\n",
       "      <td>None</td>\n",
       "      <td>//edu-image.nosdn.127.net/54cd8694fcc94e7db580...</td>\n",
       "      <td>...</td>\n",
       "      <td>//study.163.com/course/introduction/1006382035...</td>\n",
       "      <td>None</td>\n",
       "      <td>False</td>\n",
       "      <td>None</td>\n",
       "      <td>-1</td>\n",
       "      <td>None</td>\n",
       "      <td>None</td>\n",
       "      <td>#1f2127</td>\n",
       "      <td>http://edu-image.nosdn.127.net/3F764D18892EDAD...</td>\n",
       "      <td>None</td>\n",
       "    </tr>\n",
       "    <tr>\n",
       "      <th>3</th>\n",
       "      <td>SCENE_UNKNOWN</td>\n",
       "      <td>None</td>\n",
       "      <td>None</td>\n",
       "      <td>None</td>\n",
       "      <td>None</td>\n",
       "      <td>None</td>\n",
       "      <td>0</td>\n",
       "      <td>None</td>\n",
       "      <td>None</td>\n",
       "      <td>//edu-image.nosdn.127.net/f1bf6a406cd04e018777...</td>\n",
       "      <td>...</td>\n",
       "      <td>//study.163.com/course/introduction/1005286008...</td>\n",
       "      <td>None</td>\n",
       "      <td>False</td>\n",
       "      <td>None</td>\n",
       "      <td>-1</td>\n",
       "      <td>None</td>\n",
       "      <td>None</td>\n",
       "      <td>None</td>\n",
       "      <td>None</td>\n",
       "      <td>None</td>\n",
       "    </tr>\n",
       "    <tr>\n",
       "      <th>4</th>\n",
       "      <td>SCENE_UNKNOWN</td>\n",
       "      <td>None</td>\n",
       "      <td>None</td>\n",
       "      <td>None</td>\n",
       "      <td>None</td>\n",
       "      <td>None</td>\n",
       "      <td>0</td>\n",
       "      <td>None</td>\n",
       "      <td>None</td>\n",
       "      <td>//img1.ph.126.net/i8hLqiwRBZImFjUs_jLAIg==/663...</td>\n",
       "      <td>...</td>\n",
       "      <td>//study.163.com/course/introduction/1463016.htm</td>\n",
       "      <td>None</td>\n",
       "      <td>False</td>\n",
       "      <td>None</td>\n",
       "      <td>-1</td>\n",
       "      <td>None</td>\n",
       "      <td>None</td>\n",
       "      <td>None</td>\n",
       "      <td>None</td>\n",
       "      <td>None</td>\n",
       "    </tr>\n",
       "  </tbody>\n",
       "</table>\n",
       "<p>5 rows × 53 columns</p>\n",
       "</div>"
      ],
      "text/plain": [
       "     actionScene activityIds activityUrl advertiseFlag advertiseSearchUuid  \\\n",
       "0  SCENE_UNKNOWN        None        None          None                None   \n",
       "1  SCENE_UNKNOWN        None        None          None                None   \n",
       "2  SCENE_UNKNOWN        None        None          None                None   \n",
       "3  SCENE_UNKNOWN        None        None          None                None   \n",
       "4  SCENE_UNKNOWN        None        None          None                None   \n",
       "\n",
       "                                           appImgUrl  appType bannerTitle  \\\n",
       "0                                               None        0        None   \n",
       "1                                               None        0        None   \n",
       "2  http://edu-image.nosdn.127.net/4F00DCB9F75BE98...        0        None   \n",
       "3                                               None        0        None   \n",
       "4                                               None        0        None   \n",
       "\n",
       "  belongToId                                          bigImgUrl  ...  \\\n",
       "0       None  //edu-image.nosdn.127.net/72a57bbe-3e04-45bb-b...  ...   \n",
       "1       None  //edu-image.nosdn.127.net/51A9AAD923AF952AD1F8...  ...   \n",
       "2       None  //edu-image.nosdn.127.net/54cd8694fcc94e7db580...  ...   \n",
       "3       None  //edu-image.nosdn.127.net/f1bf6a406cd04e018777...  ...   \n",
       "4       None  //img1.ph.126.net/i8hLqiwRBZImFjUs_jLAIg==/663...  ...   \n",
       "\n",
       "                                           targetUrl termSchedule  topGrade  \\\n",
       "0  //study.163.com/course/introduction/1005211036...         None     False   \n",
       "1  //study.163.com/course/introduction/1004990016...         None     False   \n",
       "2  //study.163.com/course/introduction/1006382035...         None     False   \n",
       "3  //study.163.com/course/introduction/1005286008...         None     False   \n",
       "4    //study.163.com/course/introduction/1463016.htm         None     False   \n",
       "\n",
       "  totalCount vipContentType vipPrice wapImgUrl webImgColor  \\\n",
       "0       None             -1     None      None        None   \n",
       "1       None             -1     None      None        None   \n",
       "2       None             -1     None      None     #1f2127   \n",
       "3       None             -1     None      None        None   \n",
       "4       None             -1     None      None        None   \n",
       "\n",
       "                                           webImgUrl  webOneDesc  \n",
       "0                                               None        None  \n",
       "1                                               None        None  \n",
       "2  http://edu-image.nosdn.127.net/3F764D18892EDAD...        None  \n",
       "3                                               None        None  \n",
       "4                                               None        None  \n",
       "\n",
       "[5 rows x 53 columns]"
      ]
     },
     "execution_count": 32,
     "metadata": {},
     "output_type": "execute_result"
    }
   ],
   "source": [
    "tmp_df = pd.DataFrame.from_dict(lessons_module)\n",
    "tmp_df.head(5)"
   ]
  },
  {
   "cell_type": "markdown",
   "metadata": {},
   "source": [
    "### 批量处理"
   ]
  },
  {
   "cell_type": "code",
   "execution_count": 33,
   "metadata": {
    "scrolled": true
   },
   "outputs": [
    {
     "name": "stdout",
     "output_type": "stream",
     "text": [
      "1560504749.614216\n"
     ]
    }
   ],
   "source": [
    "# yyyy-mm-dd格式的时间转换为大整数的unix 时间\n",
    "# https://www.tutorialspoint.com/How-to-convert-Python-date-to-Unix-timestamp\n",
    "# https://stackoverflow.com/questions/19801727/convert-datetime-to-unix-timestamp-and-convert-it-back-in-python\n",
    "\n",
    "from datetime import timezone\n",
    "import datetime\n",
    "dt = datetime.datetime.now()\n",
    "timestamp = dt.replace(tzinfo=timezone.utc).timestamp()\n",
    "print(timestamp)"
   ]
  },
  {
   "cell_type": "code",
   "execution_count": 42,
   "metadata": {
    "scrolled": true
   },
   "outputs": [
    {
     "name": "stdout",
     "output_type": "stream",
     "text": [
      "啊！抛锚了！请检查 https://study.163.com/category/480000003123036\n",
      "啊！抛锚了！请检查 https://study.163.com/category/480000003134019\n",
      "啊！抛锚了！请检查 https://study.163.com/category/480000003125052\n",
      "啊！抛锚了！请检查 https://study.163.com/category/480000003132007\n",
      "啊！抛锚了！请检查 https://study.163.com/category/480000003134058\n",
      "啊！抛锚了！请检查 https://study.163.com/category/480000003129067\n",
      "啊！抛锚了！请检查 https://study.163.com/category/480000003125030\n",
      "啊！抛锚了！请检查 https://study.163.com/category/480000003128025\n",
      "啊！抛锚了！请检查 https://study.163.com/category/480000003132028\n",
      "啊！抛锚了！请检查 https://study.163.com/category/480000003125031\n",
      "啊！抛锚了！请检查 https://study.163.com/category/480000003132030\n",
      "啊！抛锚了！请检查 https://study.163.com/category/480000003122026\n",
      "啊！抛锚了！请检查 https://study.163.com/category/480000003127028\n",
      "啊！抛锚了！请检查 https://study.163.com/category/480000003132031\n",
      "啊！抛锚了！请检查 https://study.163.com/category/480000003122027\n",
      "啊！抛锚了！请检查 https://study.163.com/category/480000003123037\n",
      "啊！抛锚了！请检查 https://study.163.com/category/480000003127027\n",
      "啊！抛锚了！请检查 https://study.163.com/category/480000003129038\n",
      "啊！抛锚了！请检查 https://study.163.com/category/480000003122023\n",
      "啊！抛锚了！请检查 https://study.163.com/category/480000003122024\n",
      "啊！抛锚了！请检查 https://study.163.com/category/480000003122025\n",
      "啊！抛锚了！请检查 https://study.163.com/category/480000003121026\n",
      "啊！抛锚了！请检查 https://study.163.com/category/480000003121027\n",
      "啊！抛锚了！请检查 https://study.163.com/category/480000003131030\n",
      "啊！抛锚了！请检查 https://study.163.com/category/480000003126031\n",
      "啊！抛锚了！请检查 https://study.163.com/category/480000003130033\n",
      "啊！抛锚了！请检查 https://study.163.com/category/480000003132029\n",
      "啊！抛锚了！请检查 https://study.163.com/category/480000003134020\n",
      "啊！抛锚了！请检查 https://study.163.com/category/480000003119029\n",
      "啊！抛锚了！请检查 https://study.163.com/category/480000003129036\n",
      "啊！抛锚了！请检查 https://study.163.com/category/480000003128026\n",
      "啊！抛锚了！请检查 https://study.163.com/category/480000003121025\n",
      "啊！抛锚了！请检查 https://study.163.com/category/480000003128042\n",
      "啊！抛锚了！请检查 https://study.163.com/category/480000003131047\n",
      "啊！抛锚了！请检查 https://study.163.com/category/480000003134048\n",
      "啊！抛锚了！请检查 https://study.163.com/category/480000003126053\n",
      "啊！抛锚了！请检查 https://study.163.com/category/480000003132051\n",
      "啊！抛锚了！请检查 https://study.163.com/category/480000003124052\n",
      "啊！抛锚了！请检查 https://study.163.com/category/480000003132004\n",
      "啊！抛锚了！请检查 https://study.163.com/category/480000003130012\n",
      "啊！抛锚了！请检查 https://study.163.com/category/480000003121008\n",
      "啊！抛锚了！请检查 https://study.163.com/category/480000003119009\n",
      "啊！抛锚了！请检查 https://study.163.com/category/480000003129017\n",
      "啊！抛锚了！请检查 https://study.163.com/category/480000003122008\n",
      "啊！抛锚了！请检查 https://study.163.com/category/480000003129019\n",
      "啊！抛锚了！请检查 https://study.163.com/category/480000003131013\n",
      "啊！抛锚了！请检查 https://study.163.com/category/480000003131010\n",
      "啊！抛锚了！请检查 https://study.163.com/category/480000003120006\n",
      "啊！抛锚了！请检查 https://study.163.com/category/480000003125016\n",
      "啊！抛锚了！请检查 https://study.163.com/category/480000003124005\n",
      "啊！抛锚了！请检查 https://study.163.com/category/480000003128007\n",
      "啊！抛锚了！请检查 https://study.163.com/category/480000003134005\n",
      "啊！抛锚了！请检查 https://study.163.com/category/480000003120005\n",
      "啊！抛锚了！请检查 https://study.163.com/category/480000003121006\n",
      "啊！抛锚了！请检查 https://study.163.com/category/480000003119008\n",
      "啊！抛锚了！请检查 https://study.163.com/category/480000003129020\n",
      "啊！抛锚了！请检查 https://study.163.com/category/480000003124010\n",
      "啊！抛锚了！请检查 https://study.163.com/category/480000003130014\n",
      "啊！抛锚了！请检查 https://study.163.com/category/480000003124008\n",
      "啊！抛锚了！请检查 https://study.163.com/category/480000003124009\n",
      "啊！抛锚了！请检查 https://study.163.com/category/480000003123021\n",
      "啊！抛锚了！请检查 https://study.163.com/category/480000003119011\n",
      "啊！抛锚了！请检查 https://study.163.com/category/480000003122009\n",
      "啊！抛锚了！请检查 https://study.163.com/category/480000003121009\n",
      "啊！抛锚了！请检查 https://study.163.com/category/480000003123019\n",
      "啊！抛锚了！请检查 https://study.163.com/category/480000003134001\n",
      "啊！抛锚了！请检查 https://study.163.com/category/480000003132003\n",
      "啊！抛锚了！请检查 https://study.163.com/category/480000003125014\n",
      "啊！抛锚了！请检查 https://study.163.com/category/480000003131006\n",
      "啊！抛锚了！请检查 https://study.163.com/category/480000003129015\n",
      "啊！抛锚了！请检查 https://study.163.com/category/480000003127008\n",
      "啊！抛锚了！请检查 https://study.163.com/category/480000003120003\n",
      "啊！抛锚了！请检查 https://study.163.com/category/480000003134002\n",
      "啊！抛锚了！请检查 https://study.163.com/category/480000003131005\n",
      "啊！抛锚了！请检查 https://study.163.com/category/480000003121003\n",
      "啊！抛锚了！请检查 https://study.163.com/category/480000003132061\n",
      "啊！抛锚了！请检查 https://study.163.com/category/480000003120055\n",
      "啊！抛锚了！请检查 https://study.163.com/category/480000003130075\n",
      "啊！抛锚了！请检查 https://study.163.com/category/480000003132062\n",
      "啊！抛锚了！请检查 https://study.163.com/category/480000003127059\n",
      "啊！抛锚了！请检查 https://study.163.com/category/480000003127060\n",
      "啊！抛锚了！请检查 https://study.163.com/category/480000003124058\n",
      "啊！抛锚了！请检查 https://study.163.com/category/480000003121057\n",
      "啊！抛锚了！请检查 https://study.163.com/category/480000003134059\n",
      "啊！抛锚了！请检查 https://study.163.com/category/480000003124059\n",
      "啊！抛锚了！请检查 https://study.163.com/category/480000003128048\n",
      "啊！抛锚了！请检查 https://study.163.com/category/480000003122052\n",
      "啊！抛锚了！请检查 https://study.163.com/category/480000003127061\n",
      "啊！抛锚了！请检查 https://study.163.com/category/480000003134060\n",
      "啊！抛锚了！请检查 https://study.163.com/category/480000003128049\n",
      "啊！抛锚了！请检查 https://study.163.com/category/480000003123059\n",
      "啊！抛锚了！请检查 https://study.163.com/category/480000003129072\n",
      "啊！抛锚了！请检查 https://study.163.com/category/480000003129073\n",
      "啊！抛锚了！请检查 https://study.163.com/category/480000003126062\n",
      "啊！抛锚了！请检查 https://study.163.com/category/480000003125063\n",
      "啊！抛锚了！请检查 https://study.163.com/category/480000003129074\n",
      "啊！抛锚了！请检查 https://study.163.com/category/480000003121058\n",
      "啊！抛锚了！请检查 https://study.163.com/category/480000003123061\n",
      "啊！抛锚了！请检查 https://study.163.com/category/480000003122053\n",
      "啊！抛锚了！请检查 https://study.163.com/category/480000003134061\n",
      "啊！抛锚了！请检查 https://study.163.com/category/480000003126063\n",
      "啊！抛锚了！请检查 https://study.163.com/category/480000003124024\n",
      "啊！抛锚了！请检查 https://study.163.com/category/480000003130031\n",
      "啊！抛锚了！请检查 https://study.163.com/category/480000003131026\n",
      "啊！抛锚了！请检查 https://study.163.com/category/480000003121021\n",
      "啊！抛锚了！请检查 https://study.163.com/category/480000003123035\n",
      "啊！抛锚了！请检查 https://study.163.com/category/480000003131027\n",
      "啊！抛锚了！请检查 https://study.163.com/category/480000003130032\n",
      "啊！抛锚了！请检查 https://study.163.com/category/480000003120024\n",
      "啊！抛锚了！请检查 https://study.163.com/category/480000003128024\n",
      "啊！抛锚了！请检查 https://study.163.com/category/480000003132022\n",
      "啊！抛锚了！请检查 https://study.163.com/category/480000003132023\n",
      "啊！抛锚了！请检查 https://study.163.com/category/480000003132024\n",
      "啊！抛锚了！请检查 https://study.163.com/category/480000003132025\n",
      "啊！抛锚了！请检查 https://study.163.com/category/480000003120025\n",
      "啊！抛锚了！请检查 https://study.163.com/category/480000003121022\n",
      "啊！抛锚了！请检查 https://study.163.com/category/480000003120027\n",
      "啊！抛锚了！请检查 https://study.163.com/category/480000003121023\n",
      "啊！抛锚了！请检查 https://study.163.com/category/480000003122022\n",
      "啊！抛锚了！请检查 https://study.163.com/category/480000003126029\n",
      "啊！抛锚了！请检查 https://study.163.com/category/480000003134017\n",
      "啊！抛锚了！请检查 https://study.163.com/category/480000003120028\n",
      "啊！抛锚了！请检查 https://study.163.com/category/480000003127068\n",
      "啊！抛锚了！请检查 https://study.163.com/category/480000003124065\n",
      "啊！抛锚了！请检查 https://study.163.com/category/480000003126069\n",
      "啊！抛锚了！请检查 https://study.163.com/category/480000003249007\n",
      "啊！抛锚了！请检查 https://study.163.com/category/480000003132070\n",
      "啊！抛锚了！请检查 https://study.163.com/category/480000003225021\n",
      "啊！抛锚了！请检查 https://study.163.com/category/480000003126044\n",
      "啊！抛锚了！请检查 https://study.163.com/category/480000003234020\n",
      "啊！抛锚了！请检查 https://study.163.com/category/480000003229030\n",
      "啊！抛锚了！请检查 https://study.163.com/category/480000003227018\n",
      "啊！抛锚了！请检查 https://study.163.com/category/480000003230018\n",
      "啊！抛锚了！请检查 https://study.163.com/category/480000003234021\n",
      "啊！抛锚了！请检查 https://study.163.com/category/480000003238019\n",
      "啊！抛锚了！请检查 https://study.163.com/category/480000003228017\n",
      "啊！抛锚了！请检查 https://study.163.com/category/480000003228018\n",
      "啊！抛锚了！请检查 https://study.163.com/category/480000003130055\n",
      "啊！抛锚了！请检查 https://study.163.com/category/480000003130056\n",
      "啊！抛锚了！请检查 https://study.163.com/category/480000003130057\n",
      "啊！抛锚了！请检查 https://study.163.com/category/480000003120039\n",
      "啊！抛锚了！请检查 https://study.163.com/category/480000003123049\n",
      "啊！抛锚了！请检查 https://study.163.com/category/480000003125042\n",
      "啊！抛锚了！请检查 https://study.163.com/category/480000003237017\n"
     ]
    },
    {
     "name": "stdout",
     "output_type": "stream",
     "text": [
      "啊！抛锚了！请检查 https://study.163.com/category/480000003134038\n",
      "啊！抛锚了！请检查 https://study.163.com/category/480000003134039\n",
      "啊！抛锚了！请检查 https://study.163.com/category/480000003130058\n",
      "啊！抛锚了！请检查 https://study.163.com/category/480000003237018\n",
      "啊！抛锚了！请检查 https://study.163.com/category/480000003128039\n",
      "啊！抛锚了！请检查 https://study.163.com/category/480000003134040\n",
      "啊！抛锚了！请检查 https://study.163.com/category/480000003121039\n",
      "啊！抛锚了！请检查 https://study.163.com/category/480000003232023\n",
      "啊！抛锚了！请检查 https://study.163.com/category/480000003126047\n",
      "啊！抛锚了！请检查 https://study.163.com/category/480000003132045\n",
      "啊！抛锚了！请检查 https://study.163.com/category/480000003131044\n",
      "啊！抛锚了！请检查 https://study.163.com/category/480000003134042\n",
      "啊！抛锚了！请检查 https://study.163.com/category/480000003130061\n",
      "啊！抛锚了！请检查 https://study.163.com/category/480000003130062\n",
      "啊！抛锚了！请检查 https://study.163.com/category/480000003126049\n",
      "啊！抛锚了！请检查 https://study.163.com/category/480000003127042\n",
      "啊！抛锚了！请检查 https://study.163.com/category/480000003123050\n",
      "啊！抛锚了！请检查 https://study.163.com/category/480000003121041\n",
      "啊！抛锚了！请检查 https://study.163.com/category/480000003119045\n",
      "啊！抛锚了！请检查 https://study.163.com/category/480000003121042\n",
      "啊！抛锚了！请检查 https://study.163.com/category/400000001331002\n",
      "啊！抛锚了！请检查 https://study.163.com/category/400000001331003\n",
      "啊！抛锚了！请检查 https://study.163.com/category/400000001324001\n",
      "啊！抛锚了！请检查 https://study.163.com/category/480000003131070\n",
      "啊！抛锚了！请检查 https://study.163.com/category/480000003125075\n",
      "啊！抛锚了！请检查 https://study.163.com/category/400000001329001\n",
      "啊！抛锚了！请检查 https://study.163.com/category/400000001326001\n",
      "啊！抛锚了！请检查 https://study.163.com/category/400000001328001\n",
      "啊！抛锚了！请检查 https://study.163.com/category/400000001321002\n",
      "啊！抛锚了！请检查 https://study.163.com/category/400000001324002\n",
      "啊！抛锚了！请检查 https://study.163.com/category/400000001323002\n",
      "啊！抛锚了！请检查 https://study.163.com/category/400000001328003\n",
      "啊！抛锚了！请检查 https://study.163.com/category/400000001370002\n",
      "啊！抛锚了！请检查 https://study.163.com/category/400000001372006\n",
      "啊！抛锚了！请检查 https://study.163.com/category/400000001367005\n",
      "啊！抛锚了！请检查 https://study.163.com/category/400000001325002\n",
      "啊！抛锚了！请检查 https://study.163.com/category/480000003127046\n",
      "啊！抛锚了！请检查 https://study.163.com/category/480000003129066\n",
      "啊！抛锚了！请检查 https://study.163.com/category/480000003134050\n",
      "啊！抛锚了！请检查 https://study.163.com/category/480000003120045\n",
      "啊！抛锚了！请检查 https://study.163.com/category/480000003132053\n",
      "啊！抛锚了！请检查 https://study.163.com/category/480000003120047\n",
      "啊！抛锚了！请检查 https://study.163.com/category/480000003134052\n",
      "啊！抛锚了！请检查 https://study.163.com/category/480000003126055\n",
      "啊！抛锚了！请检查 https://study.163.com/category/480000003125054\n",
      "啊！抛锚了！请检查 https://study.163.com/category/480000003120048\n",
      "啊！抛锚了！请检查 https://study.163.com/category/480000003127048\n",
      "啊！抛锚了！请检查 https://study.163.com/category/480000003244003\n",
      "啊！抛锚了！请检查 https://study.163.com/category/480000003129069\n",
      "啊！抛锚了！请检查 https://study.163.com/category/480000003124053\n",
      "啊！抛锚了！请检查 https://study.163.com/category/480000003130070\n",
      "啊！抛锚了！请检查 https://study.163.com/category/480000003125058\n",
      "啊！抛锚了！请检查 https://study.163.com/category/480000003132057\n",
      "啊！抛锚了！请检查 https://study.163.com/category/480000003127053\n",
      "啊！抛锚了！请检查 https://study.163.com/category/480000003127052\n",
      "啊！抛锚了！请检查 https://study.163.com/category/480000003134055\n",
      "啊！抛锚了！请检查 https://study.163.com/category/480000003127054\n",
      "搞完了，请检查数据结果\n"
     ]
    }
   ],
   "source": [
    "# 标记首次运行\n",
    "mark = 1\n",
    "\n",
    "# 第一层循环，cat_id\n",
    "for cat_id in data_category['cat_id']:\n",
    "    \n",
    "    url_cat = 'https://study.163.com/j/web/fetchPersonalData.json?categoryId='+str(cat_id)\n",
    "    \n",
    "    url_check = 'https://study.163.com/category/'+str(cat_id)\n",
    "\n",
    "    # 更新refer中的url\n",
    "    headers_cat['Referer'] = url_check\n",
    "    \n",
    "    r_cat = requests.get(url_cat, headers=headers_cat)\n",
    "    \n",
    "    try:\n",
    "        html_text = r_cat.content.decode()\n",
    "        html_json = json.loads(html_text)\n",
    "        # 课程推荐的模块一般会有多个\n",
    "        modules = html_json['result']\n",
    "        \n",
    "        # 第2层循环，module\n",
    "        for module in modules:\n",
    "            # 每个模块下通常会有多门课程推荐\n",
    "            courses = module['contentModuleVo'] #json格式\n",
    "            \n",
    "            tmp_df = pd.DataFrame.from_dict(courses)\n",
    "            \n",
    "            if mark == 1:\n",
    "                # 初始化dataframe\n",
    "                data_courses_raw1 = tmp_df\n",
    "                # 重置标记\n",
    "                mark = 0\n",
    "            else:\n",
    "                data_courses_raw1 = pd.concat([data_courses_raw1,tmp_df], axis=0,)\n",
    "    except:\n",
    "        print('啊！抛锚了！请检查 %s'%url_check)\n",
    "\n",
    "print('搞完了，请检查数据结果')"
   ]
  },
  {
   "cell_type": "code",
   "execution_count": 43,
   "metadata": {
    "scrolled": true
   },
   "outputs": [
    {
     "data": {
      "text/plain": [
       "(2116, 53)"
      ]
     },
     "execution_count": 43,
     "metadata": {},
     "output_type": "execute_result"
    }
   ],
   "source": [
    "# 检查数据\n",
    "data_courses_raw1.shape"
   ]
  },
  {
   "cell_type": "code",
   "execution_count": 54,
   "metadata": {
    "scrolled": true
   },
   "outputs": [
    {
     "data": {
      "text/html": [
       "<div>\n",
       "<style scoped>\n",
       "    .dataframe tbody tr th:only-of-type {\n",
       "        vertical-align: middle;\n",
       "    }\n",
       "\n",
       "    .dataframe tbody tr th {\n",
       "        vertical-align: top;\n",
       "    }\n",
       "\n",
       "    .dataframe thead th {\n",
       "        text-align: right;\n",
       "    }\n",
       "</style>\n",
       "<table border=\"1\" class=\"dataframe\">\n",
       "  <thead>\n",
       "    <tr style=\"text-align: right;\">\n",
       "      <th></th>\n",
       "      <th>parent</th>\n",
       "      <th>child</th>\n",
       "      <th>url</th>\n",
       "      <th>cat_id</th>\n",
       "    </tr>\n",
       "  </thead>\n",
       "  <tbody>\n",
       "    <tr>\n",
       "      <th>58</th>\n",
       "      <td>生活兴趣</td>\n",
       "      <td>书法</td>\n",
       "      <td>https://study.163.com/category/480000003131048</td>\n",
       "      <td>480000003131048</td>\n",
       "    </tr>\n",
       "  </tbody>\n",
       "</table>\n",
       "</div>"
      ],
      "text/plain": [
       "   parent child                                             url  \\\n",
       "58   生活兴趣    书法  https://study.163.com/category/480000003131048   \n",
       "\n",
       "             cat_id  \n",
       "58  480000003131048  "
      ]
     },
     "execution_count": 54,
     "metadata": {},
     "output_type": "execute_result"
    }
   ],
   "source": [
    "data_category.loc[data_category['cat_id']==480000003131048]"
   ]
  },
  {
   "cell_type": "markdown",
   "metadata": {},
   "source": [
    "### 数据清洗"
   ]
  },
  {
   "cell_type": "code",
   "execution_count": 55,
   "metadata": {},
   "outputs": [],
   "source": [
    "# 备份数据\n",
    "data_courses_bak1 = data_courses_raw1"
   ]
  },
  {
   "cell_type": "code",
   "execution_count": 56,
   "metadata": {
    "scrolled": false
   },
   "outputs": [
    {
     "name": "stdout",
     "output_type": "stream",
     "text": [
      "数据共 53 列，其中空值列有 29 列\n"
     ]
    }
   ],
   "source": [
    "# 列筛选\n",
    "# 如果超过90%的行都是空值或者NULL那么剔除该列\n",
    "\n",
    "# 首先筛选90%为空|NULL|None的列\n",
    "# None，e.g. 列activityUrl\n",
    "# 空值,e.g. 列capsuleImgUrl\n",
    "# \n",
    "col_empty = []\n",
    "col_notemp = []\n",
    "\n",
    "# 总行数\n",
    "row_cnt,col_cnt = data_courses_raw1.shape\n",
    "\n",
    "for column in data_courses_raw1.columns:\n",
    "    \n",
    "    # 注意isna和isnull的效果是一样的，不要重复计算\n",
    "    rcnt_empty = sum(pd.isna(data_courses_raw1[column]))\\\n",
    "                    +sum(data_courses_raw1[column].apply(lambda x:str(x).replace(' ',''))=='')\\\n",
    "                    +sum(data_courses_raw1[column].apply(lambda x:str(x).upper())=='NULL')\n",
    "    \n",
    "    if rcnt_empty >= row_cnt*0.9:\n",
    "        col_empty.append(column)\n",
    "    else:\n",
    "        col_notemp.append(column)\n",
    "        \n",
    "print('数据共 %d 列，其中空值列有 %d 列'%(col_cnt,len(col_empty)))"
   ]
  },
  {
   "cell_type": "code",
   "execution_count": 57,
   "metadata": {
    "scrolled": true
   },
   "outputs": [
    {
     "data": {
      "text/plain": [
       "24"
      ]
     },
     "execution_count": 57,
     "metadata": {},
     "output_type": "execute_result"
    }
   ],
   "source": [
    "# 保留剩下的那部分列\n",
    "data_courses_raw1 = data_courses_raw1[col_notemp]\n",
    "\n",
    "len(data_courses_raw1.columns)"
   ]
  },
  {
   "cell_type": "code",
   "execution_count": 58,
   "metadata": {},
   "outputs": [],
   "source": [
    "# 接下来需要人工检查哪些列可以删掉\n",
    "log_file = 'data_check.txt'\n",
    "\n",
    "with open(log_file,'wb') as f:\n",
    "    \n",
    "    for column in data_courses_raw1.columns:\n",
    "        \n",
    "        tmp_stat = data_courses_raw1.groupby(column)[column].count()\n",
    "        \n",
    "        f.write(bytes(str(tmp_stat),'utf-8'))\n",
    "        f.write(b'\\n*************************************\\n')"
   ]
  },
  {
   "cell_type": "code",
   "execution_count": 59,
   "metadata": {},
   "outputs": [],
   "source": [
    "# 判断变量类型\n",
    "from pandas.api import types\n",
    "\n",
    "def sortcols(df):\n",
    "    # INPUT: dataframe\n",
    "    # OUTPUT: col_str字符串，col_num数值型，col_unc未知类型\n",
    "\n",
    "    col_str = []\n",
    "    col_num = []\n",
    "    col_unc = [] # 不确定\n",
    "\n",
    "    for column in df.columns:\n",
    "        if types.is_string_dtype(df[column]):\n",
    "            col_str.append(column)\n",
    "        elif types.is_numeric_dtype(df[column]):\n",
    "            col_num.append(column)\n",
    "        else:\n",
    "            col_unc.append(column)\n",
    "\n",
    "    return(col_str,col_num,col_unc)"
   ]
  },
  {
   "cell_type": "code",
   "execution_count": 60,
   "metadata": {
    "scrolled": true
   },
   "outputs": [
    {
     "name": "stdout",
     "output_type": "stream",
     "text": [
      "['actionScene', 'appImgUrl', 'bigImgUrl', 'description', 'displayType', 'imgUrl', 'learnerCount', 'originalPrice', 'productName', 'provider', 'score', 'scoreLevel', 'targetUrl', 'webImgColor', 'webImgUrl']\n",
      "['appType', 'categoryId', 'discountPrice', 'isTopGrade', 'productId', 'productType', 'searchItemType', 'topGrade', 'vipContentType']\n",
      "[]\n"
     ]
    }
   ],
   "source": [
    "# 函数测试\n",
    "col_str,col_num,col_unc = sortcols(data_courses_raw1)\n",
    "print(col_str)\n",
    "print(col_num)\n",
    "print(col_unc)"
   ]
  },
  {
   "cell_type": "code",
   "execution_count": 61,
   "metadata": {
    "scrolled": true
   },
   "outputs": [
    {
     "data": {
      "text/html": [
       "<div>\n",
       "<style scoped>\n",
       "    .dataframe tbody tr th:only-of-type {\n",
       "        vertical-align: middle;\n",
       "    }\n",
       "\n",
       "    .dataframe tbody tr th {\n",
       "        vertical-align: top;\n",
       "    }\n",
       "\n",
       "    .dataframe thead th {\n",
       "        text-align: right;\n",
       "    }\n",
       "</style>\n",
       "<table border=\"1\" class=\"dataframe\">\n",
       "  <thead>\n",
       "    <tr style=\"text-align: right;\">\n",
       "      <th></th>\n",
       "      <th>appType</th>\n",
       "      <th>categoryId</th>\n",
       "      <th>discountPrice</th>\n",
       "      <th>productId</th>\n",
       "      <th>productType</th>\n",
       "      <th>searchItemType</th>\n",
       "      <th>vipContentType</th>\n",
       "    </tr>\n",
       "  </thead>\n",
       "  <tbody>\n",
       "    <tr>\n",
       "      <th>count</th>\n",
       "      <td>2115.0</td>\n",
       "      <td>2.116000e+03</td>\n",
       "      <td>2115.000000</td>\n",
       "      <td>2.116000e+03</td>\n",
       "      <td>2116.000000</td>\n",
       "      <td>2116.000000</td>\n",
       "      <td>2115.0</td>\n",
       "    </tr>\n",
       "    <tr>\n",
       "      <th>mean</th>\n",
       "      <td>0.0</td>\n",
       "      <td>4.749338e+14</td>\n",
       "      <td>53.305579</td>\n",
       "      <td>9.133067e+08</td>\n",
       "      <td>2.104915</td>\n",
       "      <td>2.706049</td>\n",
       "      <td>-1.0</td>\n",
       "    </tr>\n",
       "    <tr>\n",
       "      <th>std</th>\n",
       "      <td>0.0</td>\n",
       "      <td>1.948863e+13</td>\n",
       "      <td>230.409230</td>\n",
       "      <td>3.202532e+08</td>\n",
       "      <td>0.308055</td>\n",
       "      <td>7.954099</td>\n",
       "      <td>0.0</td>\n",
       "    </tr>\n",
       "    <tr>\n",
       "      <th>min</th>\n",
       "      <td>0.0</td>\n",
       "      <td>4.000000e+14</td>\n",
       "      <td>-1.000000</td>\n",
       "      <td>0.000000e+00</td>\n",
       "      <td>2.000000</td>\n",
       "      <td>0.000000</td>\n",
       "      <td>-1.0</td>\n",
       "    </tr>\n",
       "    <tr>\n",
       "      <th>25%</th>\n",
       "      <td>0.0</td>\n",
       "      <td>4.800000e+14</td>\n",
       "      <td>-1.000000</td>\n",
       "      <td>1.003146e+09</td>\n",
       "      <td>2.000000</td>\n",
       "      <td>0.000000</td>\n",
       "      <td>-1.0</td>\n",
       "    </tr>\n",
       "    <tr>\n",
       "      <th>50%</th>\n",
       "      <td>0.0</td>\n",
       "      <td>4.800000e+14</td>\n",
       "      <td>-1.000000</td>\n",
       "      <td>1.004606e+09</td>\n",
       "      <td>2.000000</td>\n",
       "      <td>0.000000</td>\n",
       "      <td>-1.0</td>\n",
       "    </tr>\n",
       "    <tr>\n",
       "      <th>75%</th>\n",
       "      <td>0.0</td>\n",
       "      <td>4.800000e+14</td>\n",
       "      <td>49.000000</td>\n",
       "      <td>1.005793e+09</td>\n",
       "      <td>2.000000</td>\n",
       "      <td>0.000000</td>\n",
       "      <td>-1.0</td>\n",
       "    </tr>\n",
       "    <tr>\n",
       "      <th>max</th>\n",
       "      <td>0.0</td>\n",
       "      <td>4.800000e+14</td>\n",
       "      <td>8000.000000</td>\n",
       "      <td>1.209305e+09</td>\n",
       "      <td>4.000000</td>\n",
       "      <td>30.000000</td>\n",
       "      <td>-1.0</td>\n",
       "    </tr>\n",
       "  </tbody>\n",
       "</table>\n",
       "</div>"
      ],
      "text/plain": [
       "       appType    categoryId  discountPrice     productId  productType  \\\n",
       "count   2115.0  2.116000e+03    2115.000000  2.116000e+03  2116.000000   \n",
       "mean       0.0  4.749338e+14      53.305579  9.133067e+08     2.104915   \n",
       "std        0.0  1.948863e+13     230.409230  3.202532e+08     0.308055   \n",
       "min        0.0  4.000000e+14      -1.000000  0.000000e+00     2.000000   \n",
       "25%        0.0  4.800000e+14      -1.000000  1.003146e+09     2.000000   \n",
       "50%        0.0  4.800000e+14      -1.000000  1.004606e+09     2.000000   \n",
       "75%        0.0  4.800000e+14      49.000000  1.005793e+09     2.000000   \n",
       "max        0.0  4.800000e+14    8000.000000  1.209305e+09     4.000000   \n",
       "\n",
       "       searchItemType  vipContentType  \n",
       "count     2116.000000          2115.0  \n",
       "mean         2.706049            -1.0  \n",
       "std          7.954099             0.0  \n",
       "min          0.000000            -1.0  \n",
       "25%          0.000000            -1.0  \n",
       "50%          0.000000            -1.0  \n",
       "75%          0.000000            -1.0  \n",
       "max         30.000000            -1.0  "
      ]
     },
     "execution_count": 61,
     "metadata": {},
     "output_type": "execute_result"
    }
   ],
   "source": [
    "# 一般数值变量使用df.describe()方法即可，对于有布尔值的列则不行\n",
    "data_courses_raw1.describe()"
   ]
  },
  {
   "cell_type": "code",
   "execution_count": 62,
   "metadata": {},
   "outputs": [
    {
     "data": {
      "text/plain": [
       "3"
      ]
     },
     "execution_count": 62,
     "metadata": {},
     "output_type": "execute_result"
    }
   ],
   "source": [
    "len(pd.unique(data_courses_raw1.actionScene))"
   ]
  },
  {
   "cell_type": "code",
   "execution_count": 63,
   "metadata": {},
   "outputs": [],
   "source": [
    "# 对于离散变量则需要检查枚举值的统计情况，看看是否有的列只有少数几个无用的枚举值\n",
    "\n",
    "log_file = 'data_check.txt'\n",
    "\n",
    "with open(log_file,'wb') as f:\n",
    "    \n",
    "    row_num = data_courses_raw1.shape[0]\n",
    "    \n",
    "    for column in col_str:\n",
    "        \n",
    "        val_cnt = len(pd.unique(data_courses_raw1[column]))\n",
    "        \n",
    "        if val_cnt >=row_num/3 or val_cnt>=15 :\n",
    "            f.write(bytes(column+' 属于离散枚举值','utf-8'))\n",
    "        else:\n",
    "            tmp_stat = data_courses_raw1.groupby(column)[column].count()\n",
    "            f.write(bytes(str(tmp_stat),'utf-8'))\n",
    "        \n",
    "        f.write(b'\\n*************************************\\n')"
   ]
  },
  {
   "cell_type": "code",
   "execution_count": 64,
   "metadata": {},
   "outputs": [],
   "source": [
    "# 最终筛选的变量为\n",
    "# 数值型 categoryId,discountPrice,productId,productType,isTopGrade,topGrade\n",
    "# 字符型 description,learnerCount,originalPrice,productName,provider,score,scoreLevel,targetUrl"
   ]
  },
  {
   "cell_type": "code",
   "execution_count": 65,
   "metadata": {},
   "outputs": [],
   "source": [
    "col_selected1 = ['productId','productName','description','categoryId'\\\n",
    "                             ,'provider','targetUrl'\\\n",
    "                             ,'originalPrice','discountPrice'\\\n",
    "                             ,'learnerCount','score','scoreLevel'\n",
    "                             ,'productType','isTopGrade','topGrade']\n",
    "\n",
    "data_courses_1 = data_courses_raw1[col_selected1]"
   ]
  },
  {
   "cell_type": "code",
   "execution_count": 66,
   "metadata": {},
   "outputs": [],
   "source": [
    "# 按主键去重\n",
    "# 一门课程会归类到多个栏目下\n",
    "data_courses_1 = data_courses_1.drop_duplicates(subset=['productId'])"
   ]
  },
  {
   "cell_type": "code",
   "execution_count": 67,
   "metadata": {},
   "outputs": [
    {
     "data": {
      "text/plain": [
       "(1742, 14)"
      ]
     },
     "execution_count": 67,
     "metadata": {},
     "output_type": "execute_result"
    }
   ],
   "source": [
    "data_courses_1.shape"
   ]
  },
  {
   "cell_type": "code",
   "execution_count": 68,
   "metadata": {},
   "outputs": [
    {
     "data": {
      "text/html": [
       "<div>\n",
       "<style scoped>\n",
       "    .dataframe tbody tr th:only-of-type {\n",
       "        vertical-align: middle;\n",
       "    }\n",
       "\n",
       "    .dataframe tbody tr th {\n",
       "        vertical-align: top;\n",
       "    }\n",
       "\n",
       "    .dataframe thead th {\n",
       "        text-align: right;\n",
       "    }\n",
       "</style>\n",
       "<table border=\"1\" class=\"dataframe\">\n",
       "  <thead>\n",
       "    <tr style=\"text-align: right;\">\n",
       "      <th></th>\n",
       "      <th>productId</th>\n",
       "      <th>productName</th>\n",
       "      <th>description</th>\n",
       "      <th>categoryId</th>\n",
       "      <th>provider</th>\n",
       "      <th>targetUrl</th>\n",
       "      <th>originalPrice</th>\n",
       "      <th>discountPrice</th>\n",
       "      <th>learnerCount</th>\n",
       "      <th>score</th>\n",
       "      <th>scoreLevel</th>\n",
       "      <th>productType</th>\n",
       "      <th>isTopGrade</th>\n",
       "      <th>topGrade</th>\n",
       "    </tr>\n",
       "  </thead>\n",
       "  <tbody>\n",
       "    <tr>\n",
       "      <th>0</th>\n",
       "      <td>1208962801</td>\n",
       "      <td>从二本到CEO 用得上的大学逆袭课</td>\n",
       "      <td>用得上的大学求职规划知识点</td>\n",
       "      <td>480000003121024</td>\n",
       "      <td>入行职场</td>\n",
       "      <td>//study.163.com/course/introduction/1208962801...</td>\n",
       "      <td>49.9</td>\n",
       "      <td>-1.0</td>\n",
       "      <td>275</td>\n",
       "      <td>4.7</td>\n",
       "      <td>2</td>\n",
       "      <td>2</td>\n",
       "      <td>False</td>\n",
       "      <td>False</td>\n",
       "    </tr>\n",
       "    <tr>\n",
       "      <th>1</th>\n",
       "      <td>1006301013</td>\n",
       "      <td>个体突围：普通人翻身逆袭的路径</td>\n",
       "      <td>开发自身人力资源，获得更好的发展</td>\n",
       "      <td>480000003121024</td>\n",
       "      <td>思维灯泡</td>\n",
       "      <td>//study.163.com/course/introduction/1006301013...</td>\n",
       "      <td>139</td>\n",
       "      <td>-1.0</td>\n",
       "      <td>97</td>\n",
       "      <td>4.6</td>\n",
       "      <td>-1</td>\n",
       "      <td>2</td>\n",
       "      <td>False</td>\n",
       "      <td>False</td>\n",
       "    </tr>\n",
       "    <tr>\n",
       "      <th>0</th>\n",
       "      <td>1006506017</td>\n",
       "      <td>升职加薪：新人职业发展必备技能</td>\n",
       "      <td>两个准备，带你更好地迎接新挑战</td>\n",
       "      <td>480000003121024</td>\n",
       "      <td>别Young职场</td>\n",
       "      <td>//study.163.com/course/introduction/1006506017...</td>\n",
       "      <td>99</td>\n",
       "      <td>59.9</td>\n",
       "      <td>252</td>\n",
       "      <td>4.8</td>\n",
       "      <td>3</td>\n",
       "      <td>2</td>\n",
       "      <td>False</td>\n",
       "      <td>False</td>\n",
       "    </tr>\n",
       "  </tbody>\n",
       "</table>\n",
       "</div>"
      ],
      "text/plain": [
       "    productId        productName       description       categoryId  provider  \\\n",
       "0  1208962801  从二本到CEO 用得上的大学逆袭课     用得上的大学求职规划知识点  480000003121024      入行职场   \n",
       "1  1006301013    个体突围：普通人翻身逆袭的路径  开发自身人力资源，获得更好的发展  480000003121024      思维灯泡   \n",
       "0  1006506017    升职加薪：新人职业发展必备技能   两个准备，带你更好地迎接新挑战  480000003121024  别Young职场   \n",
       "\n",
       "                                           targetUrl originalPrice  \\\n",
       "0  //study.163.com/course/introduction/1208962801...          49.9   \n",
       "1  //study.163.com/course/introduction/1006301013...           139   \n",
       "0  //study.163.com/course/introduction/1006506017...            99   \n",
       "\n",
       "   discountPrice learnerCount score scoreLevel  productType  isTopGrade  \\\n",
       "0           -1.0          275   4.7          2            2       False   \n",
       "1           -1.0           97   4.6         -1            2       False   \n",
       "0           59.9          252   4.8          3            2       False   \n",
       "\n",
       "   topGrade  \n",
       "0     False  \n",
       "1     False  \n",
       "0     False  "
      ]
     },
     "execution_count": 68,
     "metadata": {},
     "output_type": "execute_result"
    }
   ],
   "source": [
    "data_courses_1.head(3)"
   ]
  },
  {
   "cell_type": "code",
   "execution_count": 69,
   "metadata": {},
   "outputs": [],
   "source": [
    "data_courses_1.to_csv('data_163study_part1.csv', encoding='utf-8')"
   ]
  },
  {
   "cell_type": "markdown",
   "metadata": {},
   "source": [
    "## 课程Part2"
   ]
  },
  {
   "cell_type": "markdown",
   "metadata": {},
   "source": [
    "### 单元测试"
   ]
  },
  {
   "cell_type": "code",
   "execution_count": 70,
   "metadata": {},
   "outputs": [],
   "source": [
    "post_data = {\n",
    "    'activityId': 0\n",
    "    ,'frontCategoryId': \"480000003124027\"\n",
    "    ,'keyword': \"\"\n",
    "    ,'orderType': 50 #新客10，畅销90，推荐50，全部100\n",
    "    ,'pageIndex': 1\n",
    "    ,'pageSize': 50\n",
    "    ,'priceType': -1\n",
    "    ,'relativeOffset': 0\n",
    "    ,'searchTimeType': -1\n",
    "}"
   ]
  },
  {
   "cell_type": "code",
   "execution_count": 113,
   "metadata": {},
   "outputs": [],
   "source": [
    "headers = {\n",
    "    'accept': 'application/json'\n",
    "    ,'accept-encoding': 'gzip, deflate, br'\n",
    "    ,'accept-language': 'zh-CN,zh;q=0.9,en;q=0.8'\n",
    "    ,'content-type': 'application/json'\n",
    "    ,'cookie': 'NTESSTUDYSI=c2b373320c9e4bdcbaaf3e472e82f2d6; EDUWEBDEVICE=affc57a4b6aa408091a8f0c9752b08d9; __utma=129633230.1300737634.1560475613.1560475613.1560475613.1; __utmc=129633230; __utmz=129633230.1560475613.1.1.utmcsr=(direct)|utmccn=(direct)|utmcmd=(none); eds_utm=eyJjIjoiIiwiY3QiOiIiLCJpIjoiIiwibSI6IiIsInMiOiIiLCJ0IjoiIn0=|aHR0cDovL2xvY2FsaG9zdDo4ODg5L25vdGVib29rcy9Eb2N1bWVudHMvQWhvbmdMYWIvUHlXb3Jrcy8wMl8lRTclQkQlOTElRTclQkIlOUMlRTclODglQUMlRTglOTklQUIvJUU2JThBJTkzJUU1JThGJTk2JUU3JUJEJTkxJUU2JTk4JTkzJUU0JUJBJTkxJUU4JUFGJUJFJUU1JUEwJTgyJUU1JTkyJThDJUU4JTg1JUJFJUU4JUFFJUFGJUU4JUFGJUJFJUU1JUEwJTgyLyVFNyU4OCVBQyVFOCU5OSVBQl8lRTclQkQlOTElRTYlOTglOTMlRTQlQkElOTElRTglQUYlQkUlRTUlQTAlODJfMjAxOTA0MTguaXB5bmI=; utm=eyJjIjoiIiwiY3QiOiIiLCJpIjoiIiwibSI6IiIsInMiOiIiLCJ0IjoiIn0=|aHR0cDovL2xvY2FsaG9zdDo4ODg5L25vdGVib29rcy9Eb2N1bWVudHMvQWhvbmdMYWIvUHlXb3Jrcy8wMl8lRTclQkQlOTElRTclQkIlOUMlRTclODglQUMlRTglOTklQUIvJUU2JThBJTkzJUU1JThGJTk2JUU3JUJEJTkxJUU2JTk4JTkzJUU0JUJBJTkxJUU4JUFGJUJFJUU1JUEwJTgyJUU1JTkyJThDJUU4JTg1JUJFJUU4JUFFJUFGJUU4JUFGJUJFJUU1JUEwJTgyLyVFNyU4OCVBQyVFOCU5OSVBQl8lRTclQkQlOTElRTYlOTglOTMlRTQlQkElOTElRTglQUYlQkUlRTUlQTAlODJfMjAxOTA0MTguaXB5bmI=; __utmb=129633230.23.10.1560475613'\n",
    "    ,'origin': 'https://study.163.com'\n",
    "    ,'referer': 'https://study.163.com/category/480000003124027'\n",
    "    ,'dnt': '1'\n",
    "    ,'edu-script-token': 'c2b373320c9e4bdcbaaf3e472e82f2d6'\n",
    "    ,'user-agent': 'Mozilla/5.0 (Macintosh; Intel Mac OS X 10_14_4) AppleWebKit/537.36 (KHTML, like Gecko) Chrome/73.0.3683.103 Safari/537.36'  \n",
    "}"
   ]
  },
  {
   "cell_type": "code",
   "execution_count": 114,
   "metadata": {},
   "outputs": [],
   "source": [
    "url = 'https://study.163.com/p/search/studycourse.json'"
   ]
  },
  {
   "cell_type": "code",
   "execution_count": 115,
   "metadata": {
    "scrolled": true
   },
   "outputs": [],
   "source": [
    "r = requests.post(url, data=json.dumps(post_data), headers=headers)\n",
    "\n",
    "html_text = r.content.decode()"
   ]
  },
  {
   "cell_type": "code",
   "execution_count": 116,
   "metadata": {},
   "outputs": [
    {
     "data": {
      "text/plain": [
       "200"
      ]
     },
     "execution_count": 116,
     "metadata": {},
     "output_type": "execute_result"
    }
   ],
   "source": [
    "r.status_code"
   ]
  },
  {
   "cell_type": "code",
   "execution_count": 117,
   "metadata": {},
   "outputs": [],
   "source": [
    "html_json = json.loads(html_text)\n",
    "# html_json"
   ]
  },
  {
   "cell_type": "code",
   "execution_count": 118,
   "metadata": {
    "scrolled": true
   },
   "outputs": [
    {
     "name": "stdout",
     "output_type": "stream",
     "text": [
      "10\n"
     ]
    }
   ],
   "source": [
    "# 结果展示的页面数\n",
    "page_cnt = html_json['result']['query']['totlePageCount']\n",
    "\n",
    "# 返回结果数\n",
    "item_cnt = html_json['result']['query']['totleCount']\n",
    "\n",
    "print(page_cnt)"
   ]
  },
  {
   "cell_type": "code",
   "execution_count": 119,
   "metadata": {},
   "outputs": [
    {
     "name": "stdout",
     "output_type": "stream",
     "text": [
      "orderType 为 10 时，item数为 10\n",
      "orderType 为 20 时，item数为 462\n",
      "orderType 为 30 时，item数为 462\n",
      "orderType 为 40 时，item数为 462\n",
      "orderType 为 50 时，item数为 131\n",
      "orderType 为 60 时，item数为 332\n",
      "orderType 为 70 时，item数为 130\n",
      "orderType 为 80 时，item数为 462\n",
      "orderType 为 90 时，item数为 83\n",
      "orderType 为 100 时，item数为 462\n"
     ]
    }
   ],
   "source": [
    "# 迭代测试 orderType在什么时候返回的结果最大\n",
    "# 测试结果发现是20，30，40，80，100\n",
    "for i in range(10,101,10):\n",
    "    try:\n",
    "        post_data['orderType']=i\n",
    "        r = requests.post(url, data=json.dumps(post_data), headers=headers)\n",
    "        html_text = r.content.decode()\n",
    "        html_json = json.loads(html_text)\n",
    "        item_cnt = html_json['result']['query']['totleCount']\n",
    "        print('orderType 为 %d 时，item数为 %d'%(i,item_cnt))\n",
    "    except:\n",
    "        # print('ERROR')\n",
    "        continue"
   ]
  },
  {
   "cell_type": "code",
   "execution_count": 121,
   "metadata": {},
   "outputs": [
    {
     "data": {
      "text/plain": [
       "462"
      ]
     },
     "execution_count": 121,
     "metadata": {},
     "output_type": "execute_result"
    }
   ],
   "source": [
    "html_json['result']['query']['totleCount']"
   ]
  },
  {
   "cell_type": "code",
   "execution_count": 99,
   "metadata": {},
   "outputs": [],
   "source": [
    "# 课程列表\n",
    "list_courses = html_json['result']['list']"
   ]
  },
  {
   "cell_type": "code",
   "execution_count": 100,
   "metadata": {},
   "outputs": [
    {
     "data": {
      "text/html": [
       "<div>\n",
       "<style scoped>\n",
       "    .dataframe tbody tr th:only-of-type {\n",
       "        vertical-align: middle;\n",
       "    }\n",
       "\n",
       "    .dataframe tbody tr th {\n",
       "        vertical-align: top;\n",
       "    }\n",
       "\n",
       "    .dataframe thead th {\n",
       "        text-align: right;\n",
       "    }\n",
       "</style>\n",
       "<table border=\"1\" class=\"dataframe\">\n",
       "  <thead>\n",
       "    <tr style=\"text-align: right;\">\n",
       "      <th></th>\n",
       "      <th>activityIds</th>\n",
       "      <th>advertiseFlag</th>\n",
       "      <th>advertiseSearchUuid</th>\n",
       "      <th>bigImgUrl</th>\n",
       "      <th>compositeType</th>\n",
       "      <th>courseCardProps</th>\n",
       "      <th>courseId</th>\n",
       "      <th>description</th>\n",
       "      <th>discountPrice</th>\n",
       "      <th>discountRate</th>\n",
       "      <th>...</th>\n",
       "      <th>startTime</th>\n",
       "      <th>tagIap</th>\n",
       "      <th>tagLectorTime</th>\n",
       "      <th>termType</th>\n",
       "      <th>viewCount</th>\n",
       "      <th>vipContentType</th>\n",
       "      <th>vipEndTime</th>\n",
       "      <th>vipPrice</th>\n",
       "      <th>vipStartTime</th>\n",
       "      <th>webOneDesc</th>\n",
       "    </tr>\n",
       "  </thead>\n",
       "  <tbody>\n",
       "    <tr>\n",
       "      <th>0</th>\n",
       "      <td></td>\n",
       "      <td>None</td>\n",
       "      <td>76f06afb-2fb7-4503-a76b-4a3c6fc4b1fd</td>\n",
       "      <td>https://edu-image.nosdn.127.net/6ebf0f99555e45...</td>\n",
       "      <td>None</td>\n",
       "      <td>null</td>\n",
       "      <td>1209235807</td>\n",
       "      <td>本课程连载，共计48课\\n每周一、周四各更新2节课\\n课程大纲如下：\\n第一章：图片裁剪基础...</td>\n",
       "      <td>NaN</td>\n",
       "      <td>NaN</td>\n",
       "      <td>...</td>\n",
       "      <td>-1</td>\n",
       "      <td>None</td>\n",
       "      <td>NaN</td>\n",
       "      <td>None</td>\n",
       "      <td>None</td>\n",
       "      <td>-1</td>\n",
       "      <td>-1</td>\n",
       "      <td>NaN</td>\n",
       "      <td>-1</td>\n",
       "      <td>None</td>\n",
       "    </tr>\n",
       "    <tr>\n",
       "      <th>1</th>\n",
       "      <td></td>\n",
       "      <td>None</td>\n",
       "      <td>76f06afb-2fb7-4503-a76b-4a3c6fc4b1fd</td>\n",
       "      <td>https://edu-image.nosdn.127.net/d4138ce75dca44...</td>\n",
       "      <td>None</td>\n",
       "      <td>null</td>\n",
       "      <td>1209321821</td>\n",
       "      <td>本套PPT视频教程共分为6个章节，每个章节分成小节重点讲解，从基础到实操，本套课程合理规划，...</td>\n",
       "      <td>NaN</td>\n",
       "      <td>NaN</td>\n",
       "      <td>...</td>\n",
       "      <td>-1</td>\n",
       "      <td>None</td>\n",
       "      <td>NaN</td>\n",
       "      <td>None</td>\n",
       "      <td>None</td>\n",
       "      <td>-1</td>\n",
       "      <td>-1</td>\n",
       "      <td>NaN</td>\n",
       "      <td>-1</td>\n",
       "      <td>None</td>\n",
       "    </tr>\n",
       "    <tr>\n",
       "      <th>2</th>\n",
       "      <td></td>\n",
       "      <td>None</td>\n",
       "      <td>76f06afb-2fb7-4503-a76b-4a3c6fc4b1fd</td>\n",
       "      <td>https://edu-image.nosdn.127.net/845e54ac394c4d...</td>\n",
       "      <td>None</td>\n",
       "      <td>null</td>\n",
       "      <td>1209333864</td>\n",
       "      <td>【PPT设计训练营】旨在让你在一个月的时间做出模板甚至电影级别的PPT，从PPT的图文排版到...</td>\n",
       "      <td>NaN</td>\n",
       "      <td>NaN</td>\n",
       "      <td>...</td>\n",
       "      <td>-1</td>\n",
       "      <td>None</td>\n",
       "      <td>NaN</td>\n",
       "      <td>None</td>\n",
       "      <td>None</td>\n",
       "      <td>-1</td>\n",
       "      <td>-1</td>\n",
       "      <td>NaN</td>\n",
       "      <td>-1</td>\n",
       "      <td>None</td>\n",
       "    </tr>\n",
       "  </tbody>\n",
       "</table>\n",
       "<p>3 rows × 42 columns</p>\n",
       "</div>"
      ],
      "text/plain": [
       "  activityIds advertiseFlag                   advertiseSearchUuid  \\\n",
       "0                      None  76f06afb-2fb7-4503-a76b-4a3c6fc4b1fd   \n",
       "1                      None  76f06afb-2fb7-4503-a76b-4a3c6fc4b1fd   \n",
       "2                      None  76f06afb-2fb7-4503-a76b-4a3c6fc4b1fd   \n",
       "\n",
       "                                           bigImgUrl compositeType  \\\n",
       "0  https://edu-image.nosdn.127.net/6ebf0f99555e45...          None   \n",
       "1  https://edu-image.nosdn.127.net/d4138ce75dca44...          None   \n",
       "2  https://edu-image.nosdn.127.net/845e54ac394c4d...          None   \n",
       "\n",
       "  courseCardProps    courseId  \\\n",
       "0            null  1209235807   \n",
       "1            null  1209321821   \n",
       "2            null  1209333864   \n",
       "\n",
       "                                         description  discountPrice  \\\n",
       "0  本课程连载，共计48课\\n每周一、周四各更新2节课\\n课程大纲如下：\\n第一章：图片裁剪基础...            NaN   \n",
       "1  本套PPT视频教程共分为6个章节，每个章节分成小节重点讲解，从基础到实操，本套课程合理规划，...            NaN   \n",
       "2  【PPT设计训练营】旨在让你在一个月的时间做出模板甚至电影级别的PPT，从PPT的图文排版到...            NaN   \n",
       "\n",
       "   discountRate  ...  startTime  tagIap tagLectorTime  termType viewCount  \\\n",
       "0           NaN  ...         -1    None           NaN      None      None   \n",
       "1           NaN  ...         -1    None           NaN      None      None   \n",
       "2           NaN  ...         -1    None           NaN      None      None   \n",
       "\n",
       "  vipContentType  vipEndTime  vipPrice vipStartTime  webOneDesc  \n",
       "0             -1          -1       NaN           -1        None  \n",
       "1             -1          -1       NaN           -1        None  \n",
       "2             -1          -1       NaN           -1        None  \n",
       "\n",
       "[3 rows x 42 columns]"
      ]
     },
     "execution_count": 100,
     "metadata": {},
     "output_type": "execute_result"
    }
   ],
   "source": [
    "tmp_df = pd.DataFrame.from_dict(list_courses)\n",
    "\n",
    "tmp_df.head(3)"
   ]
  },
  {
   "cell_type": "markdown",
   "metadata": {},
   "source": [
    "### 批量处理"
   ]
  },
  {
   "cell_type": "code",
   "execution_count": 122,
   "metadata": {},
   "outputs": [],
   "source": [
    "# 网页请求参数设置\n",
    "post_data = {\n",
    "    'activityId': 0\n",
    "    ,'advertiseSearchUuid': \"245969da-450b-47f0-9211-d5c0f93e01c2\" #\n",
    "    ,'frontCategoryId': '480000003124027'#cat_id\n",
    "    ,'keyword': \"\"\n",
    "    ,'orderType': 100 #新客10，畅销90，推荐50,全部100\n",
    "    ,'pageIndex': 1\n",
    "    ,'pageSize': 50\n",
    "    ,'priceType': -1\n",
    "    ,'relativeOffset': 0\n",
    "    ,'searchTimeType': -1\n",
    "}\n",
    "\n",
    "headers = {\n",
    "    'accept': 'application/json'\n",
    "    ,'accept-encoding': 'gzip, deflate, br'\n",
    "    ,'accept-language': 'zh-CN,zh;q=0.9,en;q=0.8'\n",
    "    ,'content-type': 'application/json'\n",
    "    ,'cookie': 'NTESSTUDYSI=c2b373320c9e4bdcbaaf3e472e82f2d6; EDUWEBDEVICE=affc57a4b6aa408091a8f0c9752b08d9; __utma=129633230.1300737634.1560475613.1560475613.1560475613.1; __utmc=129633230; __utmz=129633230.1560475613.1.1.utmcsr=(direct)|utmccn=(direct)|utmcmd=(none); eds_utm=eyJjIjoiIiwiY3QiOiIiLCJpIjoiIiwibSI6IiIsInMiOiIiLCJ0IjoiIn0=|aHR0cDovL2xvY2FsaG9zdDo4ODg5L25vdGVib29rcy9Eb2N1bWVudHMvQWhvbmdMYWIvUHlXb3Jrcy8wMl8lRTclQkQlOTElRTclQkIlOUMlRTclODglQUMlRTglOTklQUIvJUU2JThBJTkzJUU1JThGJTk2JUU3JUJEJTkxJUU2JTk4JTkzJUU0JUJBJTkxJUU4JUFGJUJFJUU1JUEwJTgyJUU1JTkyJThDJUU4JTg1JUJFJUU4JUFFJUFGJUU4JUFGJUJFJUU1JUEwJTgyLyVFNyU4OCVBQyVFOCU5OSVBQl8lRTclQkQlOTElRTYlOTglOTMlRTQlQkElOTElRTglQUYlQkUlRTUlQTAlODJfMjAxOTA0MTguaXB5bmI=; utm=eyJjIjoiIiwiY3QiOiIiLCJpIjoiIiwibSI6IiIsInMiOiIiLCJ0IjoiIn0=|aHR0cDovL2xvY2FsaG9zdDo4ODg5L25vdGVib29rcy9Eb2N1bWVudHMvQWhvbmdMYWIvUHlXb3Jrcy8wMl8lRTclQkQlOTElRTclQkIlOUMlRTclODglQUMlRTglOTklQUIvJUU2JThBJTkzJUU1JThGJTk2JUU3JUJEJTkxJUU2JTk4JTkzJUU0JUJBJTkxJUU4JUFGJUJFJUU1JUEwJTgyJUU1JTkyJThDJUU4JTg1JUJFJUU4JUFFJUFGJUU4JUFGJUJFJUU1JUEwJTgyLyVFNyU4OCVBQyVFOCU5OSVBQl8lRTclQkQlOTElRTYlOTglOTMlRTQlQkElOTElRTglQUYlQkUlRTUlQTAlODJfMjAxOTA0MTguaXB5bmI=; __utmb=129633230.23.10.1560475613'\n",
    "    ,'origin': 'https://study.163.com'\n",
    "    ,'referer': 'https://study.163.com/category/480000003124027'\n",
    "    ,'dnt': '1'\n",
    "    ,'edu-script-token': 'c2b373320c9e4bdcbaaf3e472e82f2d6'\n",
    "    ,'user-agent': 'Mozilla/5.0 (Macintosh; Intel Mac OS X 10_14_4) AppleWebKit/537.36 (KHTML, like Gecko) Chrome/73.0.3683.103 Safari/537.36'  \n",
    "}"
   ]
  },
  {
   "cell_type": "code",
   "execution_count": 123,
   "metadata": {},
   "outputs": [
    {
     "name": "stdout",
     "output_type": "stream",
     "text": [
      "当前进度 17% "
     ]
    },
    {
     "name": "stderr",
     "output_type": "stream",
     "text": [
      "/Applications/Utilities/anaconda/lib/python3.6/site-packages/ipykernel_launcher.py:49: FutureWarning: Sorting because non-concatenation axis is not aligned. A future version\n",
      "of pandas will change to not sort by default.\n",
      "\n",
      "To accept the future behavior, pass 'sort=False'.\n",
      "\n",
      "To retain the current behavior and silence the warning, pass 'sort=True'.\n",
      "\n"
     ]
    },
    {
     "name": "stdout",
     "output_type": "stream",
     "text": [
      "当前进度 100% \n",
      "数据已抓好，请检查数据\n"
     ]
    }
   ],
   "source": [
    "# 标记首次运行\n",
    "mark = 1\n",
    "\n",
    "url = 'https://study.163.com/p/search/studycourse.json'\n",
    "\n",
    "# 第一层循环，cat_id\n",
    "for idx,cat_id in enumerate(data_category['cat_id']):\n",
    "        \n",
    "    # cat_id = '480000003130013'\n",
    "    url_cat = 'https://study.163.com/category/' + str(cat_id)\n",
    "\n",
    "    # 第二层循环，page_idx\n",
    "    page_cnt = 1 # 初始化为1，后面根据json解析的页码数再修改，不能用for循环\n",
    "    page_idx = 1\n",
    "\n",
    "    while(page_idx <= page_cnt):\n",
    "\n",
    "        # 更新请求参数\n",
    "        post_data['frontCategoryId'] = str(cat_id)\n",
    "        post_data['pageIndex'] = page_idx\n",
    "        headers_post['referer'] = url_cat\n",
    "\n",
    "        try:\n",
    "            # 请求网页\n",
    "            r = requests.post(url, data=json.dumps(post_data), headers=headers_post)\n",
    "\n",
    "            # 解析网页数据\n",
    "            html_text = r.content.decode()\n",
    "            html_json = json.loads(html_text)\n",
    "\n",
    "            # 课程列表\n",
    "            list_courses = html_json['result']['list']\n",
    "\n",
    "            tmp_df = pd.DataFrame.from_dict(list_courses)\n",
    "            \n",
    "            # 添加一列标记cat_id\n",
    "            tmp_df['categoryId'] = cat_id\n",
    "            \n",
    "            if mark == 1:\n",
    "                # 更新page_cnt\n",
    "                page_cnt = html_json['result']['query']['totlePageCount']\n",
    "                \n",
    "                # 初始化保存数据的dataframe\n",
    "                data_courses_raw2 = tmp_df\n",
    "                \n",
    "                # 执行后更新mark值\n",
    "                mark = 0\n",
    "            else:\n",
    "                data_courses_raw2 = pd.concat([data_courses_raw2,tmp_df], axis=0)\n",
    "        except:\n",
    "            print('%s page %d 出错'%(url_cat,page_idx))\n",
    "        \n",
    "        # 更新循环的page_idx\n",
    "        page_idx += 1\n",
    "        \n",
    "    # 显示进度\n",
    "    # 百分比表示进度\n",
    "    sys.stdout.write('\\r当前进度 %s%% '%(int(idx*100/len(data_category['cat_id']))+1))\n",
    "    sys.stdout.flush()\n",
    "    time.sleep(0.1)\n",
    "\n",
    "print('\\n数据已抓好，请检查数据')"
   ]
  },
  {
   "cell_type": "code",
   "execution_count": 125,
   "metadata": {
    "scrolled": true
   },
   "outputs": [
    {
     "data": {
      "text/plain": [
       "(12924, 43)"
      ]
     },
     "execution_count": 125,
     "metadata": {},
     "output_type": "execute_result"
    }
   ],
   "source": [
    "data_courses_raw2.shape"
   ]
  },
  {
   "cell_type": "markdown",
   "metadata": {},
   "source": [
    "### 数据清洗"
   ]
  },
  {
   "cell_type": "code",
   "execution_count": 126,
   "metadata": {},
   "outputs": [
    {
     "data": {
      "text/plain": [
       "Index(['activityIds', 'advertiseFlag', 'advertiseSearchUuid', 'bigImgUrl',\n",
       "       'categoryId', 'compositeType', 'courseCardProps', 'courseId',\n",
       "       'description', 'discountPrice', 'discountRate', 'displayType',\n",
       "       'endTime', 'firstPublishTime', 'forumTagLector', 'gmtModified',\n",
       "       'imgUrl', 'isPromStatus', 'learnerCount', 'lectorName', 'lessonCount',\n",
       "       'machineGrade', 'originalPrice', 'parentName', 'productId',\n",
       "       'productName', 'productType', 'provider', 'published', 'scheduleType',\n",
       "       'schoolShortName', 'score', 'scoreLevel', 'startTime', 'tagIap',\n",
       "       'tagLectorTime', 'termType', 'viewCount', 'vipContentType',\n",
       "       'vipEndTime', 'vipPrice', 'vipStartTime', 'webOneDesc'],\n",
       "      dtype='object')"
      ]
     },
     "execution_count": 126,
     "metadata": {},
     "output_type": "execute_result"
    }
   ],
   "source": [
    "data_courses_raw2.columns"
   ]
  },
  {
   "cell_type": "code",
   "execution_count": 127,
   "metadata": {},
   "outputs": [],
   "source": [
    "# 选择需要用到的列\n",
    "cols_selected2 = ['productId','productName','description','categoryId','provider'\\\n",
    "                ,'originalPrice','discountPrice'\\\n",
    "                ,'learnerCount','score','scoreLevel'\n",
    "                ,'productType'\\\n",
    "                ,'lessonCount','forumTagLector','machineGrade']"
   ]
  },
  {
   "cell_type": "code",
   "execution_count": 128,
   "metadata": {},
   "outputs": [],
   "source": [
    "data_courses_2 = data_courses_raw2[cols_selected2]"
   ]
  },
  {
   "cell_type": "code",
   "execution_count": 129,
   "metadata": {
    "scrolled": true
   },
   "outputs": [
    {
     "name": "stdout",
     "output_type": "stream",
     "text": [
      "(12924, 14)\n",
      "10139\n"
     ]
    }
   ],
   "source": [
    "# 重复数据\n",
    "print(data_courses_2.shape)\n",
    "print(len(pd.unique(data_courses_2['productId'])))"
   ]
  },
  {
   "cell_type": "code",
   "execution_count": 130,
   "metadata": {},
   "outputs": [
    {
     "data": {
      "text/plain": [
       "(10139, 14)"
      ]
     },
     "execution_count": 130,
     "metadata": {},
     "output_type": "execute_result"
    }
   ],
   "source": [
    "# 按主键去重\n",
    "data_courses_2 = data_courses_2.drop_duplicates(subset=['productId'])\n",
    "\n",
    "data_courses_2.shape"
   ]
  },
  {
   "cell_type": "code",
   "execution_count": 131,
   "metadata": {},
   "outputs": [],
   "source": [
    "data_courses_2.to_csv('data_163study_part2.csv', encoding='utf-8', index=False)"
   ]
  },
  {
   "cell_type": "markdown",
   "metadata": {},
   "source": [
    "## 数据整合"
   ]
  },
  {
   "cell_type": "markdown",
   "metadata": {},
   "source": [
    "### 课程信息整合"
   ]
  },
  {
   "cell_type": "code",
   "execution_count": 132,
   "metadata": {
    "scrolled": true
   },
   "outputs": [],
   "source": [
    "# 主键的类型要一致\n",
    "data_courses_1['productId'] = data_courses_1['productId'].apply(lambda x:str(int(x)))\n",
    "data_courses_2['productId'] = data_courses_2['productId'].apply(lambda x:str(int(x)))"
   ]
  },
  {
   "cell_type": "code",
   "execution_count": 133,
   "metadata": {},
   "outputs": [
    {
     "name": "stdout",
     "output_type": "stream",
     "text": [
      "Index(['productId', 'productName', 'description', 'categoryId', 'provider',\n",
      "       'targetUrl', 'originalPrice', 'discountPrice', 'learnerCount', 'score',\n",
      "       'scoreLevel', 'productType', 'isTopGrade', 'topGrade'],\n",
      "      dtype='object')\n",
      "Index(['productId', 'productName', 'description', 'categoryId', 'provider',\n",
      "       'originalPrice', 'discountPrice', 'learnerCount', 'score', 'scoreLevel',\n",
      "       'productType', 'lessonCount', 'forumTagLector', 'machineGrade'],\n",
      "      dtype='object')\n"
     ]
    }
   ],
   "source": [
    "print(data_courses_1.columns)\n",
    "\n",
    "print(data_courses_2.columns)"
   ]
  },
  {
   "cell_type": "code",
   "execution_count": 134,
   "metadata": {},
   "outputs": [],
   "source": [
    "data_merge_raw = pd.merge(data_courses_1,data_courses_2\\\n",
    "                      ,on='productId', how='outer'\\\n",
    "                      ,suffixes=('_1', '_2'))"
   ]
  },
  {
   "cell_type": "code",
   "execution_count": 135,
   "metadata": {
    "scrolled": false
   },
   "outputs": [
    {
     "data": {
      "text/plain": [
       "Index(['productId', 'productName_1', 'description_1', 'categoryId_1',\n",
       "       'provider_1', 'targetUrl', 'originalPrice_1', 'discountPrice_1',\n",
       "       'learnerCount_1', 'score_1', 'scoreLevel_1', 'productType_1',\n",
       "       'isTopGrade', 'topGrade', 'productName_2', 'description_2',\n",
       "       'categoryId_2', 'provider_2', 'originalPrice_2', 'discountPrice_2',\n",
       "       'learnerCount_2', 'score_2', 'scoreLevel_2', 'productType_2',\n",
       "       'lessonCount', 'forumTagLector', 'machineGrade'],\n",
       "      dtype='object')"
      ]
     },
     "execution_count": 135,
     "metadata": {},
     "output_type": "execute_result"
    }
   ],
   "source": [
    "data_merge_raw.columns"
   ]
  },
  {
   "cell_type": "markdown",
   "metadata": {},
   "source": [
    "### 合并重复列\n",
    "其中一列可能为空值，也可能两列都有值"
   ]
  },
  {
   "cell_type": "code",
   "execution_count": 136,
   "metadata": {
    "scrolled": true
   },
   "outputs": [
    {
     "name": "stdout",
     "output_type": "stream",
     "text": [
      "['productName', 'description', 'categoryId', 'provider', 'originalPrice', 'discountPrice', 'learnerCount', 'score', 'scoreLevel', 'productType']\n"
     ]
    }
   ],
   "source": [
    "# 批量对重复列进行合并\n",
    "# 逻辑，如果该列变量为为null，那么取另一列变量\n",
    "\n",
    "# 通过后缀筛选出成对的变量\n",
    "cols_couple = []\n",
    "\n",
    "for column in data_merge_raw.columns:\n",
    "    if column.endswith('_1'):\n",
    "        column_body = column.replace('_1','')\n",
    "        cols_couple.append(column_body)\n",
    "\n",
    "print(cols_couple)"
   ]
  },
  {
   "cell_type": "code",
   "execution_count": 137,
   "metadata": {},
   "outputs": [],
   "source": [
    "data_merge_tmp = data_merge_raw\n",
    "\n",
    "for col in cols_couple:\n",
    "    data_merge_tmp[col] = [i if not pd.isna(i) else j \\\n",
    "                       for i,j in zip(data_merge_tmp[col+'_1'],data_merge_tmp[col+'_2'])]\n",
    "    # 删除不用的列\n",
    "    del data_merge_tmp[col+'_1']\n",
    "    del data_merge_tmp[col+'_2']"
   ]
  },
  {
   "cell_type": "code",
   "execution_count": 138,
   "metadata": {
    "scrolled": true
   },
   "outputs": [
    {
     "data": {
      "text/plain": [
       "Index(['productId', 'targetUrl', 'isTopGrade', 'topGrade', 'lessonCount',\n",
       "       'forumTagLector', 'machineGrade', 'productName', 'description',\n",
       "       'categoryId', 'provider', 'originalPrice', 'discountPrice',\n",
       "       'learnerCount', 'score', 'scoreLevel', 'productType'],\n",
       "      dtype='object')"
      ]
     },
     "execution_count": 138,
     "metadata": {},
     "output_type": "execute_result"
    }
   ],
   "source": [
    "data_merge_tmp.columns"
   ]
  },
  {
   "cell_type": "markdown",
   "metadata": {},
   "source": [
    "### 匹配栏目名称"
   ]
  },
  {
   "cell_type": "code",
   "execution_count": 139,
   "metadata": {},
   "outputs": [],
   "source": [
    "# 匹配一级栏目名称\n",
    "# 修改列名，列名一致才能匹配\n",
    "data_merge_tmp = data_merge_tmp.rename(columns={'categoryId':'cat_id'})\n",
    "\n",
    "# 统一数据类型\n",
    "data_merge_tmp['cat_id'] = data_merge_tmp['cat_id'].apply(lambda x:str(int(x)))\n",
    "data_category['cat_id'] = data_category['cat_id'].apply(lambda x:str(int(x)))\n",
    "\n",
    "data_merge = pd.merge(data_merge_tmp,data_category\\\n",
    "                      ,on='cat_id', how='outer'\\\n",
    "                      ,suffixes=('_1', '_2'))"
   ]
  },
  {
   "cell_type": "code",
   "execution_count": 140,
   "metadata": {
    "scrolled": false
   },
   "outputs": [
    {
     "data": {
      "text/plain": [
       "Index(['productId', 'targetUrl', 'isTopGrade', 'topGrade', 'lessonCount',\n",
       "       'forumTagLector', 'machineGrade', 'productName', 'description',\n",
       "       'cat_id', 'provider', 'originalPrice', 'discountPrice', 'learnerCount',\n",
       "       'score', 'scoreLevel', 'productType', 'parent', 'child', 'url'],\n",
       "      dtype='object')"
      ]
     },
     "execution_count": 140,
     "metadata": {},
     "output_type": "execute_result"
    }
   ],
   "source": [
    "data_merge.columns"
   ]
  },
  {
   "cell_type": "code",
   "execution_count": 141,
   "metadata": {},
   "outputs": [],
   "source": [
    "# 删除不需要的列\n",
    "data_merge = data_merge.drop(columns=['cat_id','child','url'])\n",
    "# 因为一门课程可能分配到多个栏目，而导致数据重复，所以删除栏目id"
   ]
  },
  {
   "cell_type": "code",
   "execution_count": 142,
   "metadata": {},
   "outputs": [],
   "source": [
    "# 去重\n",
    "data_merge = data_merge.drop_duplicates(subset=['productId'])"
   ]
  },
  {
   "cell_type": "code",
   "execution_count": 143,
   "metadata": {
    "scrolled": false
   },
   "outputs": [
    {
     "name": "stdout",
     "output_type": "stream",
     "text": [
      "11253\n",
      "11253\n"
     ]
    }
   ],
   "source": [
    "print(data_merge.shape[0])\n",
    "\n",
    "print(len(pd.unique(data_merge['productId'])))"
   ]
  },
  {
   "cell_type": "code",
   "execution_count": 144,
   "metadata": {},
   "outputs": [
    {
     "data": {
      "text/plain": [
       "(1, 17)"
      ]
     },
     "execution_count": 144,
     "metadata": {},
     "output_type": "execute_result"
    }
   ],
   "source": [
    "data_merge.loc[pd.isna(data_merge['productId'])].shape"
   ]
  },
  {
   "cell_type": "code",
   "execution_count": 145,
   "metadata": {
    "scrolled": true
   },
   "outputs": [
    {
     "data": {
      "text/html": [
       "<div>\n",
       "<style scoped>\n",
       "    .dataframe tbody tr th:only-of-type {\n",
       "        vertical-align: middle;\n",
       "    }\n",
       "\n",
       "    .dataframe tbody tr th {\n",
       "        vertical-align: top;\n",
       "    }\n",
       "\n",
       "    .dataframe thead th {\n",
       "        text-align: right;\n",
       "    }\n",
       "</style>\n",
       "<table border=\"1\" class=\"dataframe\">\n",
       "  <thead>\n",
       "    <tr style=\"text-align: right;\">\n",
       "      <th></th>\n",
       "      <th>productId</th>\n",
       "      <th>targetUrl</th>\n",
       "      <th>isTopGrade</th>\n",
       "      <th>topGrade</th>\n",
       "      <th>lessonCount</th>\n",
       "      <th>forumTagLector</th>\n",
       "      <th>machineGrade</th>\n",
       "      <th>productName</th>\n",
       "      <th>description</th>\n",
       "      <th>provider</th>\n",
       "      <th>originalPrice</th>\n",
       "      <th>discountPrice</th>\n",
       "      <th>learnerCount</th>\n",
       "      <th>score</th>\n",
       "      <th>scoreLevel</th>\n",
       "      <th>productType</th>\n",
       "      <th>parent</th>\n",
       "    </tr>\n",
       "  </thead>\n",
       "  <tbody>\n",
       "    <tr>\n",
       "      <th>4021</th>\n",
       "      <td>0</td>\n",
       "      <td>//study.163.com/topics/houboshi</td>\n",
       "      <td>False</td>\n",
       "      <td>False</td>\n",
       "      <td>NaN</td>\n",
       "      <td>NaN</td>\n",
       "      <td>NaN</td>\n",
       "      <td>猴博士爱讲课</td>\n",
       "      <td>NaN</td>\n",
       "      <td>NaN</td>\n",
       "      <td>NaN</td>\n",
       "      <td>NaN</td>\n",
       "      <td>NaN</td>\n",
       "      <td>NaN</td>\n",
       "      <td>NaN</td>\n",
       "      <td>4.0</td>\n",
       "      <td>生活兴趣</td>\n",
       "    </tr>\n",
       "  </tbody>\n",
       "</table>\n",
       "</div>"
      ],
      "text/plain": [
       "     productId                        targetUrl isTopGrade topGrade  \\\n",
       "4021         0  //study.163.com/topics/houboshi      False    False   \n",
       "\n",
       "      lessonCount forumTagLector  machineGrade productName description  \\\n",
       "4021          NaN            NaN           NaN      猴博士爱讲课         NaN   \n",
       "\n",
       "     provider  originalPrice  discountPrice  learnerCount  score  scoreLevel  \\\n",
       "4021      NaN            NaN            NaN           NaN    NaN         NaN   \n",
       "\n",
       "      productType parent  \n",
       "4021          4.0   生活兴趣  "
      ]
     },
     "execution_count": 145,
     "metadata": {},
     "output_type": "execute_result"
    }
   ],
   "source": [
    "data_merge.loc[data_merge['productId']=='0']"
   ]
  },
  {
   "cell_type": "raw",
   "metadata": {},
   "source": [
    "with open('check.txt','wb') as f:\n",
    "    for i in data_merge['productId']:\n",
    "        f.write(bytes(str(i),'utf-8'))\n",
    "        f.write(b'\\n')"
   ]
  },
  {
   "cell_type": "code",
   "execution_count": 146,
   "metadata": {},
   "outputs": [],
   "source": [
    "data_merge.to_csv('data_网易云课堂_整合后数据.csv', encoding='utf-8')"
   ]
  }
 ],
 "metadata": {
  "kernelspec": {
   "display_name": "Python 3",
   "language": "python",
   "name": "python3"
  },
  "language_info": {
   "codemirror_mode": {
    "name": "ipython",
    "version": 3
   },
   "file_extension": ".py",
   "mimetype": "text/x-python",
   "name": "python",
   "nbconvert_exporter": "python",
   "pygments_lexer": "ipython3",
   "version": "3.6.7"
  },
  "toc": {
   "base_numbering": 1,
   "nav_menu": {},
   "number_sections": true,
   "sideBar": true,
   "skip_h1_title": false,
   "title_cell": "Table of Contents",
   "title_sidebar": "Contents",
   "toc_cell": false,
   "toc_position": {},
   "toc_section_display": true,
   "toc_window_display": true
  }
 },
 "nbformat": 4,
 "nbformat_minor": 2
}
