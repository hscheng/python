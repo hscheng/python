{
 "cells": [
  {
   "cell_type": "markdown",
   "metadata": {},
   "source": [
    "# 背景介绍\n",
    "\n",
    "打算在重庆买房子，住房信息在政府官网都能查到\n",
    "\n",
    "重庆的新房信息可以在网址http://www.cq315house.com/ 上查到(登记备案了的)\n",
    "\n",
    "于是打算爬下数据，便于快速筛选"
   ]
  },
  {
   "cell_type": "markdown",
   "metadata": {},
   "source": [
    "# 基本设置"
   ]
  },
  {
   "cell_type": "code",
   "execution_count": 1,
   "metadata": {},
   "outputs": [],
   "source": [
    "import requests\n",
    "import re,json\n",
    "import pandas as pd\n",
    "import demjson\n",
    "# http://deron.meranda.us/python/demjson/\n",
    "# http://blog.csdn.net/blueheart20/article/details/69704518\n",
    "import time"
   ]
  },
  {
   "cell_type": "code",
   "execution_count": 2,
   "metadata": {},
   "outputs": [],
   "source": [
    "# 这里定义一个函数，将网址转化成html格式\n",
    "# 区分get,post模式\n",
    "\n",
    "import requests\n",
    "\n",
    "def url2html(url,type = 'get',encoding='utf-8'):\n",
    "    # 默认设置模式为get，编码格式为 utf-8\n",
    "    try:\n",
    "        if type == 'get':\n",
    "            r = requests.get(url,timeout=120)\n",
    "        elif type == 'post':\n",
    "            r = requests.post(url,timeout=120)\n",
    "    except requests.exceptions.ConnectTimeout:\n",
    "        print('Wrong URL! Please Check')\n",
    "    else:\n",
    "        if r.status_code == 200:\n",
    "            r.encoding = encoding\n",
    "            content = r.text\n",
    "        return content"
   ]
  },
  {
   "cell_type": "markdown",
   "metadata": {},
   "source": [
    "# 参数解析"
   ]
  },
  {
   "cell_type": "markdown",
   "metadata": {
    "collapsed": true
   },
   "source": [
    "参数解析\n",
    "网址检索参数很好地对应了搜索框输入的内容\n",
    "http://www.cq315house.com/315web/webservice/GetMyData999.ashx?projectname=\\\n",
    "    &site=\\\n",
    "    &kfs=\\\n",
    "    &projectaddr=\\\n",
    "    &pagesize=10\\\n",
    "    &pageindex=2\\\n",
    "    &roomtype=\\\n",
    "    &buildarea=3"
   ]
  },
  {
   "cell_type": "markdown",
   "metadata": {},
   "source": [
    "buildarea 建筑面积\n",
    "- 1 0-70\n",
    "- 2 70-90\n",
    "- 3 90-120\n",
    "- 4 120-140\n",
    "- 5 140-180\n",
    "- 6 180-210\n",
    "- 7 210以上\n",
    "\n",
    "site 区县\n",
    "- 巴南\n",
    "- 北碚\n",
    "- 大渡口\n",
    "- 江北\n",
    "- 九龙坡\n",
    "- 南岸\n",
    "- 沙坪坝\n",
    "- 渝北\n",
    "- 渝中\n",
    "- 两江新\n",
    "\n",
    "roomtype 房屋用途\n",
    "- 住宅\n",
    "- 办公\n",
    "- 商铺\n",
    "- 其他"
   ]
  },
  {
   "cell_type": "code",
   "execution_count": 3,
   "metadata": {},
   "outputs": [],
   "source": [
    "# 渝北，住宅，90-120\n",
    "site = u'渝北'\n",
    "roomtype = u'住宅'\n",
    "kfs = u''\n",
    "projectaddr = u''\n",
    "page_idx = str(1)\n",
    "url = 'http://www.cq315house.com/315web/webservice/GetMyData999.ashx?projectname=&site='\\\n",
    "    +site\\\n",
    "    +'&kfs='+kfs\\\n",
    "    +'&projectaddr='+projectaddr\\\n",
    "    +'&pagesize=50'\\\n",
    "    +'&pageindex='+page_idx\\\n",
    "    +'&roomtype='+roomtype\\\n",
    "    +'&buildarea=3'"
   ]
  },
  {
   "cell_type": "code",
   "execution_count": 4,
   "metadata": {
    "scrolled": true
   },
   "outputs": [
    {
     "data": {
      "text/plain": [
       "'http://www.cq315house.com/315web/webservice/GetMyData999.ashx?projectname=&site=渝北&kfs=&projectaddr=&pagesize=50&pageindex=1&roomtype=住宅&buildarea=3'"
      ]
     },
     "execution_count": 4,
     "metadata": {},
     "output_type": "execute_result"
    }
   ],
   "source": [
    "url"
   ]
  },
  {
   "cell_type": "markdown",
   "metadata": {},
   "source": [
    "# 页面循环"
   ]
  },
  {
   "cell_type": "code",
   "execution_count": 5,
   "metadata": {
    "scrolled": true
   },
   "outputs": [
    {
     "name": "stdout",
     "output_type": "stream",
     "text": [
      "Scanning page 1\n",
      "Scanning page 2\n",
      "Scanning page 3\n",
      "Scanning page 4\n",
      "Scanning page 5\n",
      "Scanning page 6\n",
      "Scanning page 7\n",
      "Scanning page 8\n",
      "Scanning page 9\n",
      "Scanning page 10\n",
      "Scanning page 11\n",
      "Scanning page 12\n",
      "Scanning page 13\n",
      "Scanning page 14\n",
      "Scanning page 15\n",
      "Scanning page 16\n",
      "Scanning page 17\n",
      "Scanning page 18\n",
      "Scanning page 19\n",
      "Scanning page 20\n",
      "928 info found\n"
     ]
    }
   ],
   "source": [
    "# 房屋信息筛选\n",
    "# 区域不限\n",
    "site = u''\n",
    "# 房屋用途，住宅\n",
    "roomtype = u'住宅'\n",
    "# 面积范围\n",
    "# 2表示70-90,3表示90-120\n",
    "buildarea = '3' \n",
    "\n",
    "# 是否继续\n",
    "mark = 1\n",
    "# 页面迭代\n",
    "page_idx = 1\n",
    "# 信息存储\n",
    "house_list = list()\n",
    "\n",
    "while mark:\n",
    "    print('Scanning page %d' %page_idx)\n",
    "    url = 'http://www.cq315house.com/315web/webservice/GetMyData999.ashx?projectname=&site='\\\n",
    "        +site\\\n",
    "        +'&kfs='\\\n",
    "        +'&projectaddr='\\\n",
    "        +'&pagesize=50'\\\n",
    "        +'&pageindex='+str(page_idx)\\\n",
    "        +'&roomtype='+roomtype\\\n",
    "        +'&buildarea='+buildarea\n",
    "    html = url2html(url = url,type = 'post')\n",
    "    if len(html)>5:\n",
    "        # 去除特殊字符\n",
    "        # 不然可能报错 Line terminator characters must be escaped inside string literals'\n",
    "        # https://stackoverflow.com/questions/19176024/how-to-escape-special-characters-in-building-a-json-string\n",
    "        html = re.sub(r'[\\r|\\n|\\t]','', html)  \n",
    "        house_tmp = demjson.decode(html)\n",
    "        house_list.extend(house_tmp)\n",
    "        page_idx += 1\n",
    "    else:\n",
    "        mark = 0\n",
    "print('%d info found'%len(house_list))"
   ]
  },
  {
   "cell_type": "code",
   "execution_count": 6,
   "metadata": {
    "scrolled": false
   },
   "outputs": [
    {
     "name": "stdout",
     "output_type": "stream",
     "text": [
      "(928, 17)\n"
     ]
    }
   ],
   "source": [
    "house_df = pd.DataFrame(house_list)\n",
    "print(house_df.shape)"
   ]
  },
  {
   "cell_type": "code",
   "execution_count": 7,
   "metadata": {},
   "outputs": [],
   "source": [
    "# 保存数据\n",
    "file_data = 'CQ_house_info_90-120_20180119.xlsx'\n",
    "house_df.to_excel(file_data,index=False)"
   ]
  },
  {
   "cell_type": "code",
   "execution_count": 8,
   "metadata": {},
   "outputs": [],
   "source": [
    "# 载入先前已存数据\n",
    "house_df = pd.read_excel(file_data)"
   ]
  },
  {
   "cell_type": "code",
   "execution_count": 9,
   "metadata": {},
   "outputs": [],
   "source": [
    "# 查询特定楼盘的信息\n",
    "# http://www.cq315house.com/315web/webservice/GetBuildingInfo.ashx?buildingId=11113985\n",
    "\n",
    "buildingId = str(11113985)\n",
    "url = 'http://www.cq315house.com/315web/webservice/GetBuildingInfo.ashx?buildingId=' + buildingId\n",
    "html = url2html(url,type = 'post')\n",
    "html = re.sub(r'[\\n|\\r|\\t]','',html)\n",
    "buildingInfo_tmp = demjson.decode(html)"
   ]
  },
  {
   "cell_type": "code",
   "execution_count": 11,
   "metadata": {},
   "outputs": [
    {
     "data": {
      "text/plain": [
       "{'enterpriseName': '重庆亿臻房地产开发有限公司',\n",
       " 'enterpriseOrgCode': '',\n",
       " 'enterpriseDelegate': '唐云龙',\n",
       " 'projectName': '琅樾江山H06-2-2地块',\n",
       " 'location': '大渡口区铂桥路56号',\n",
       " 'presaleCert': '渝国土房管（2018）预字第（1767）号'}"
      ]
     },
     "execution_count": 11,
     "metadata": {},
     "output_type": "execute_result"
    }
   ],
   "source": [
    "buildingInfo_tmp"
   ]
  }
 ],
 "metadata": {
  "anaconda-cloud": {},
  "kernelspec": {
   "display_name": "Python 3",
   "language": "python",
   "name": "python3"
  },
  "language_info": {
   "codemirror_mode": {
    "name": "ipython",
    "version": 3
   },
   "file_extension": ".py",
   "mimetype": "text/x-python",
   "name": "python",
   "nbconvert_exporter": "python",
   "pygments_lexer": "ipython3",
   "version": "3.6.7"
  },
  "toc": {
   "base_numbering": 1,
   "nav_menu": {},
   "number_sections": true,
   "sideBar": true,
   "skip_h1_title": false,
   "title_cell": "Table of Contents",
   "title_sidebar": "Contents",
   "toc_cell": false,
   "toc_position": {},
   "toc_section_display": true,
   "toc_window_display": true
  }
 },
 "nbformat": 4,
 "nbformat_minor": 1
}
