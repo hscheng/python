{
 "cells": [
  {
   "cell_type": "code",
   "execution_count": 1,
   "metadata": {
    "collapsed": true
   },
   "outputs": [],
   "source": [
    "# ref:http://blog.csdn.net/dgatiger/article/details/50414549\n",
    "# 载入pyplot之前进行字体设置\n",
    "import matplotlib  \n",
    "matplotlib.use('qt4agg')  \n",
    "#指定默认字体  \n",
    "matplotlib.rcParams['font.sans-serif'] = ['SimHei']   \n",
    "matplotlib.rcParams['font.family']='sans-serif'  \n",
    "#解决负号'-'显示为方块的问题  \n",
    "matplotlib.rcParams['axes.unicode_minus'] = False   "
   ]
  },
  {
   "cell_type": "code",
   "execution_count": 2,
   "metadata": {
    "collapsed": true
   },
   "outputs": [],
   "source": [
    "import matplotlib.pyplot as plt\n",
    "import numpy as np"
   ]
  },
  {
   "cell_type": "code",
   "execution_count": 3,
   "metadata": {
    "collapsed": true
   },
   "outputs": [],
   "source": [
    "%matplotlib inline"
   ]
  },
  {
   "cell_type": "code",
   "execution_count": 4,
   "metadata": {
    "collapsed": true
   },
   "outputs": [],
   "source": [
    "# https://matplotlib.org/gallery/api/barchart.html#sphx-glr-gallery-api-barchart-py\n",
    "def autolabel(rects):\n",
    "    \"\"\"\n",
    "    Attach a text label above each bar displaying its height\n",
    "    \"\"\"\n",
    "    for rect in rects:\n",
    "        height = rect.get_height()\n",
    "        ax.text(rect.get_x() + rect.get_width()/2., 1.01*height,\n",
    "                '%d' % int(height),\n",
    "                ha='center', va='bottom')"
   ]
  },
  {
   "cell_type": "code",
   "execution_count": 5,
   "metadata": {
    "collapsed": false
   },
   "outputs": [
    {
     "ename": "NameError",
     "evalue": "name 'ax' is not defined",
     "output_type": "error",
     "traceback": [
      "\u001b[1;31m---------------------------------------------------------------------------\u001b[0m",
      "\u001b[1;31mNameError\u001b[0m                                 Traceback (most recent call last)",
      "\u001b[1;32m<ipython-input-5-8c33e242b285>\u001b[0m in \u001b[0;36m<module>\u001b[1;34m()\u001b[0m\n\u001b[1;32m----> 1\u001b[1;33m \u001b[0max\u001b[0m\u001b[1;33m.\u001b[0m\u001b[0mxaxis\u001b[0m\u001b[1;33m.\u001b[0m\u001b[0mset_label\u001b[0m\u001b[1;33m(\u001b[0m\u001b[1;34m's'\u001b[0m\u001b[1;33m)\u001b[0m\u001b[1;33m\u001b[0m\u001b[0m\n\u001b[0m",
      "\u001b[1;31mNameError\u001b[0m: name 'ax' is not defined"
     ]
    }
   ],
   "source": [
    "ax.xaxis.set_label('s')"
   ]
  },
  {
   "cell_type": "code",
   "execution_count": 31,
   "metadata": {
    "collapsed": false,
    "scrolled": true
   },
   "outputs": [
    {
     "data": {
      "image/png": "[encoded data removed]",
      "text/plain": [
       "<matplotlib.figure.Figure at 0x6f51cf0>"
      ]
     },
     "metadata": {},
     "output_type": "display_data"
    }
   ],
   "source": [
    "# 坐标轴标签\n",
    "tags = ['M1','M2','M3','M4','M5','M6']\n",
    "'''# 目标值\n",
    "vals_tar = [0.5333,0.5461,0.5461,0.5361]\n",
    "# 实际值\n",
    "vals_act = [0.4833,0.5561,0.5561,0.5381]'''\n",
    "\n",
    "# 目标值\n",
    "vals_tar = [200,180,280,260,300,310]\n",
    "# 实际值\n",
    "vals_act = [190,160,320,270,290,305]\n",
    "\n",
    "# 完成率\n",
    "vals_rate = np.array(vals_act)/np.array(vals_tar)\n",
    "\n",
    "# 标记是否达标\n",
    "idx = list(np.where(vals_rate>1)[0])\n",
    "\n",
    "# 颜色设置\n",
    "colors = list(map(lambda x: 'r' if x<1 else 'g',vals_rate))\n",
    "\n",
    "\n",
    "tag_cnt = len(tags)\n",
    "x_pos = list(range(tag_cnt))\n",
    "# x_pos[-1] = tag_cnt-0.8 # 调整间距\n",
    "\n",
    "\n",
    "fig,ax = plt.subplots()\n",
    "\n",
    "fig.set_figheight(5)\n",
    "fig.set_figwidth(13)\n",
    "fig.set_facecolor('w')\n",
    "#fig.frameon = 'False'\n",
    "\n",
    "\n",
    "# 去除左右两边以及上面的spines，设置为无色\n",
    "ax.spines['left'].set_color('none')\n",
    "ax.spines['right'].set_color('none')\n",
    "ax.spines['top'].set_color('none')\n",
    "\n",
    "ylim_min = min(min(vals_tar),min(vals_act))*0.9\n",
    "ylim_min = 0\n",
    "ylim_max = max(max(vals_tar),max(vals_act))*1.1\n",
    "ax.set(ylim=[ylim_min,ylim_max])\n",
    "\n",
    "# 调整坐标轴线的位置\n",
    "ax.spines['left'].set_position(('data',-1))\n",
    "ax.spines['bottom'].set_position(('data',ylim_min))\n",
    "\n",
    "# 绘制直方图    \n",
    "bchart = ax.bar(left = x_pos,height=vals_act,align='center',color='salmon',edgecolor='none',width=0.5)\n",
    "bchart2 = ax.bar(left = x_pos,height=vals_tar,align='center',color='none',edgecolor='black',linewidth=1.5,width=0.6)\n",
    "\n",
    "\n",
    "# x轴设置\n",
    "# ax.xaxis.set(ticks = x_pos,ticklabels=tags)\n",
    "ax.set_xticks(x_pos)\n",
    "ax.set_xticklabels(tags,fontdict={'size':14})\n",
    "#matplotlib.rc('xtick',labelsize=14)\n",
    "#matplotlib.rcParams.update({'font.size':1})\n",
    "ax.tick_params(axis='x',direction = 'inout',length = 0)\n",
    "# y轴设置\n",
    "# ax.yaxis.set(ticks = np.arange(ylim_min,ylim_max,0.05))\n",
    "ax.yaxis.set(visible = False)\n",
    "\n",
    "# 主图形设置\n",
    "[bchart[i].set_color('darkseagreen') for i in idx]\n",
    "\n",
    "'''# 对累计状态进行特殊标记，最后一个bar\n",
    "bchart[tag_cnt-1].set_edgecolor('k')\n",
    "bchart[tag_cnt-1].set_linestyle('--')\n",
    "bchart[tag_cnt-1].set_facecolor('r')\n",
    "bchart[tag_cnt-1].set_linewidth(2)'''\n",
    "# 加数据标签\n",
    "'''autolabel2(bchart,colors)\n",
    "autolabel2(bchart2,colors)'''\n",
    "\n",
    "# 柱形图下方添加数据标签\n",
    "ax.text(-1,ylim_min-ylim_max*0.1,'目标值',fontsize=14)\n",
    "# 添加每个item的文字，并用颜色标识是否达标\n",
    "for i,j,k in zip(x_pos,vals_tar,colors):\n",
    "    ax.text(i,ylim_min-ylim_max*0.1,'{:0.0f}'.format(j),fontsize = 14, color=k,horizontalalignment='center')\n",
    "\n",
    "ax.text(-1,ylim_min-ylim_max*0.2,'实际值',fontsize=14)\n",
    "# 添加每个item的文字，并用颜色标识是否达标\n",
    "for i,j,k in zip(x_pos,vals_act,colors):\n",
    "    ax.text(i,ylim_min-ylim_max*0.2,'{:0.0f}'.format(j),fontsize = 14, color=k,horizontalalignment='center')\n",
    "    \n",
    "ax.text(-1,ylim_min-ylim_max*0.3,'完成率',fontsize=14)\n",
    "# 添加每个item的文字，并用颜色标识是否达标\n",
    "for i,j,k in zip(x_pos,vals_rate,colors):\n",
    "    ax.text(i,ylim_min-ylim_max*0.3,'{0:.2%}'.format(j),fontsize = 14, color=k,horizontalalignment='center')\n",
    "\n",
    "    \n",
    "'''\n",
    "ax.text(1,0.6,'bbb',fontsize = 12, color='g',horizontalalignment='center')\n",
    "ax.text(2,0.6,'ccc',fontsize = 12, color='g',horizontalalignment='center')\n",
    "ax.text(3,0.6,'ddd',fontsize = 12, color='g',horizontalalignment='center')\n",
    "'''\n",
    "plt.title(s = '各阶段目标完成情况',fontsize=20,fontweight=20,loc='center')\n",
    "#ax.title = '22'#(text ='dfdfa',fontsize=12,horizontalalignment='center')\n",
    "\n",
    "#text='', color=None, verticalalignment='baseline', horizontalalignment='left',\n",
    "# 图表展示\n",
    "plt.show()"
   ]
  },
  {
   "cell_type": "code",
   "execution_count": 34,
   "metadata": {
    "collapsed": false,
    "scrolled": true
   },
   "outputs": [
    {
     "data": {
      "image/png": "[encoded data removed]",
      "text/plain": [
       "<matplotlib.figure.Figure at 0x6f11410>"
      ]
     },
     "metadata": {},
     "output_type": "display_data"
    }
   ],
   "source": [
    "# 坐标轴标签\n",
    "tags = ['A','B','C','D','E','F']\n",
    "'''# 目标值\n",
    "vals_tar = [0.5333,0.5461,0.5461,0.5361]\n",
    "# 实际值\n",
    "vals_act = [0.4833,0.5561,0.5561,0.5381]'''\n",
    "\n",
    "# 目标值\n",
    "vals_tar = [200,180,280,260,300,310]\n",
    "# 实际值\n",
    "vals_act = [190,160,320,270,290,305]\n",
    "\n",
    "# 完成率\n",
    "vals_rate = np.array(vals_act)/np.array(vals_tar)\n",
    "vals_avg = np.average(vals_act)\n",
    "# 标记是否达标\n",
    "idx = list(np.where(vals_rate>1)[0])\n",
    "\n",
    "# 颜色设置\n",
    "colors = list(map(lambda x: 'r' if x<1 else 'g',vals_rate))\n",
    "\n",
    "\n",
    "tag_cnt = len(tags)\n",
    "x_pos = list(range(tag_cnt))\n",
    "# x_pos[-1] = tag_cnt-0.8 # 调整间距\n",
    "\n",
    "\n",
    "fig,ax = plt.subplots()\n",
    "\n",
    "fig.set_figheight(5)\n",
    "fig.set_figwidth(8)\n",
    "fig.set_facecolor('w')\n",
    "#fig.frameon = 'False'\n",
    "\n",
    "\n",
    "# 去除左右两边以及上面的spines，设置为无色\n",
    "# ax.spines['left'].set_color('none')\n",
    "ax.spines['right'].set_color('none')\n",
    "ax.spines['top'].set_color('none')\n",
    "# ax.spines['bottom'].set_color('none')\n",
    "\n",
    "ylim_min = min(min(vals_tar),min(vals_act))*0.9\n",
    "ylim_min = 0\n",
    "ylim_max = max(max(vals_tar),max(vals_act))*1.1\n",
    "ax.set(xlim=[ylim_min,ylim_max*1.2])\n",
    "\n",
    "# 调整坐标轴线的位置\n",
    "# ax.spines['left'].set_position(('data',-1))\n",
    "# ax.spines['bottom'].set_position(('data',ylim_min))\n",
    "\n",
    "# 绘制直方图    \n",
    "bchart = ax.barh(bottom = x_pos,width=vals_act,align='center',color='salmon',edgecolor='none',height=0.5)\n",
    "bchart2 = ax.barh(bottom = x_pos,width=vals_tar,align='center',color='none',edgecolor='black',linewidth=1.5,height=0.6)\n",
    "\n",
    "\n",
    "# x轴设置\n",
    "ax.set_yticks(x_pos)\n",
    "ax.set_yticklabels(tags,fontdict={'size':14})\n",
    "ax.tick_params(axis='y',direction = 'inout',length = 0)\n",
    "# y轴设置\n",
    "# ax.yaxis.set(ticks = np.arange(ylim_min,ylim_max,0.05))\n",
    "# ax.yaxis.set(visible = False)\n",
    "ax.xaxis.set(visible = False)\n",
    "\n",
    "# 主图形设置\n",
    "[bchart[i].set_color('darkseagreen') for i in idx]\n",
    "\n",
    "\n",
    "# 加数据标签\n",
    "'''autolabel2(bchart,colors)\n",
    "autolabel2(bchart2,colors)'''\n",
    "\n",
    "# 提示差异值==========================================\n",
    "# 添加左侧文字\n",
    "ax.text(ylim_max,tag_cnt,'目标值',fontsize=12, horizontalalignment='center')\n",
    "# 添加每个item的文字，并用颜色标识是否达标\n",
    "for i,j,k in zip(x_pos,vals_tar,colors):\n",
    "    ax.text(ylim_max,i,'{:0.0f}'.format(j),fontsize = 12, color=k,horizontalalignment='center')\n",
    "\n",
    "ax.text(ylim_max*1.1,tag_cnt,'实际值',fontsize=12, horizontalalignment='center')\n",
    "# 添加每个item的文字，并用颜色标识是否达标\n",
    "for i,j,k in zip(x_pos,vals_act,colors):\n",
    "    ax.text(ylim_max*1.1,i,'{:0.0f}'.format(j),fontsize = 12, color=k,horizontalalignment='center')\n",
    "\n",
    "ax.text(ylim_max*1.2,tag_cnt,'完成率',fontsize=12, horizontalalignment='center')\n",
    "# 添加每个item的文字，并用颜色标识是否达标\n",
    "for i,j,k in zip(x_pos,vals_rate,colors):\n",
    "    ax.text(ylim_max*1.2,i,'{0:.2%}'.format(j),fontsize = 12, color=k,horizontalalignment='center')\n",
    "    \n",
    "#实际完成值均值参考线\n",
    "ax.axvline(x=vals_avg, color = 'k', linewidth = 2,linestyle='--')\n",
    "ax.text(vals_avg,6,'平均值',fontsize=12, horizontalalignment='center')\n",
    "ax.text(vals_avg,-1.5,'{:0.0f}'.format(vals_avg),fontsize=12, horizontalalignment='center')\n",
    "\n",
    "plt.title(s = '各项目完成情况',fontsize=20,fontweight=20,loc='left')\n",
    "#ax.title = '22'#(text ='dfdfa',fontsize=12,horizontalalignment='center')\n",
    "\n",
    "#text='', color=None, verticalalignment='baseline', horizontalalignment='left',\n",
    "# 图表展示\n",
    "plt.show()"
   ]
  },
  {
   "cell_type": "code",
   "execution_count": null,
   "metadata": {
    "collapsed": true
   },
   "outputs": [],
   "source": []
  }
 ],
 "metadata": {
  "anaconda-cloud": {},
  "kernelspec": {
   "display_name": "Python [Root]",
   "language": "python",
   "name": "Python [Root]"
  },
  "language_info": {
   "codemirror_mode": {
    "name": "ipython",
    "version": 3
   },
   "file_extension": ".py",
   "mimetype": "text/x-python",
   "name": "python",
   "nbconvert_exporter": "python",
   "pygments_lexer": "ipython3",
   "version": "3.5.2"
  }
 },
 "nbformat": 4,
 "nbformat_minor": 0
}
